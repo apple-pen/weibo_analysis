{
 "cells": [
  {
   "cell_type": "code",
   "execution_count": 17,
   "metadata": {},
   "outputs": [],
   "source": [
    "from xml.etree import ElementTree as ET\n",
    "import pandas as pd\n",
    "import numpy as np\n",
    "import seaborn as sb\n",
    "import matplotlib.pyplot as plt\n",
    "import re"
   ]
  },
  {
   "cell_type": "code",
   "execution_count": 18,
   "metadata": {},
   "outputs": [
    {
     "name": "stdout",
     "output_type": "stream",
     "text": [
      "憂郁的臺灣烏龜\n",
      "忧郁的台湾乌龟\n"
     ]
    }
   ],
   "source": [
    "import inlp.convert.chinese as cv\n",
    "print(cv.s2t('忧郁的台湾乌龟'))\n",
    "print(cv.t2s('憂郁的臺灣烏龜'))"
   ]
  },
  {
   "cell_type": "code",
   "execution_count": 19,
   "metadata": {},
   "outputs": [],
   "source": [
    "def is_weibo(i):\n",
    "    flag1 = True if '@'in i or 'http' in i or '原文转发' in i or '原文评论' in i or '(回复)' in i or '(转发微博)' in i or '转发理由:' in i or '分享自' in i else False\n",
    "    topic_pattern = r'#[\\u4e00-\\u9fa5a-zA-Z0-9]+?#'# 话题过滤\n",
    "    flag2 = True if re.search(topic_pattern,i) else False\n",
    "    return flag1 or flag2"
   ]
  },
  {
   "cell_type": "markdown",
   "metadata": {},
   "source": [
    "### 读入数据"
   ]
  },
  {
   "cell_type": "code",
   "execution_count": 20,
   "metadata": {},
   "outputs": [],
   "source": [
    "tree = ET.parse(\"../dataset/SMP2019_ECISA_Train.xml\")\n",
    "root = tree.getroot()\n",
    "\n",
    "train_dataset = []\n",
    "for i in root.iter('Doc'):\n",
    "    all_text = ' '.join([j.text for j in i.iter('Sentence')])\n",
    "    for j in i.iter('Sentence'):\n",
    "        if j.get('label') is not None:\n",
    "            train_dataset.append([i.get('ID'),j.get('ID'),all_text,j.text,int(j.get('label'))])\n",
    "train_dataset = pd.DataFrame(train_dataset,columns=['Doc_id','Sen_id','All_text','Text','Label'])\n",
    "train_dataset['Is_weibo'] = train_dataset['All_text'].apply(is_weibo)"
   ]
  },
  {
   "cell_type": "code",
   "execution_count": 21,
   "metadata": {},
   "outputs": [
    {
     "data": {
      "text/plain": [
       "False    9207\n",
       "True     5581\n",
       "Name: Is_weibo, dtype: int64"
      ]
     },
     "execution_count": 21,
     "metadata": {},
     "output_type": "execute_result"
    }
   ],
   "source": [
    "train_dataset['Is_weibo'].value_counts()"
   ]
  },
  {
   "cell_type": "code",
   "execution_count": 22,
   "metadata": {},
   "outputs": [],
   "source": [
    "tree = ET.parse(\"../dataset/SMP2019_ECISA_Dev.xml\")\n",
    "root = tree.getroot()\n",
    "\n",
    "dev_dataset = []\n",
    "for i in root.iter('Doc'):\n",
    "    all_text = ' '.join([j.text for j in i.iter('Sentence')])\n",
    "    for j in i.iter('Sentence'):\n",
    "        if j.get('label') is not None:\n",
    "            dev_dataset.append([i.get('ID'),j.get('ID'),all_text,j.text,int(j.get('label'))])\n",
    "dev_dataset = pd.DataFrame(dev_dataset,columns=['Doc_id','Sen_id','All_text','Text','Label'])\n",
    "dev_dataset['Is_weibo'] = dev_dataset['All_text'].apply(is_weibo)"
   ]
  },
  {
   "cell_type": "code",
   "execution_count": 23,
   "metadata": {},
   "outputs": [
    {
     "data": {
      "text/plain": [
       "False    3220\n",
       "True     1925\n",
       "Name: Is_weibo, dtype: int64"
      ]
     },
     "execution_count": 23,
     "metadata": {},
     "output_type": "execute_result"
    }
   ],
   "source": [
    "dev_dataset['Is_weibo'].value_counts()"
   ]
  },
  {
   "cell_type": "markdown",
   "metadata": {},
   "source": [
    "### 正则过滤"
   ]
  },
  {
   "cell_type": "code",
   "execution_count": 26,
   "metadata": {},
   "outputs": [],
   "source": [
    "pic_pattern = open('pic_pattern.txt','r').read().replace('\\n','|')\n",
    "def pattern_filting(df):\n",
    "    for t in [['Text','Label'],['All_text','Label']]:\n",
    "        for index,item in enumerate(df[t].values.tolist()):\n",
    "            i = item[0]\n",
    "            j = item[1]\n",
    "\n",
    "            if 'http'in i:\n",
    "                i = re.sub(r'https?:(//|\\\\)(?:[a-zA-Z]|[0-9]|[$-_@.&+]|[!*\\(\\),]|(?:%[0-9a-fA-F][0-9a-fA-F]))+','',i)\n",
    "\n",
    "            if '@' in i:\n",
    "                i = re.sub(r'^[\\\\|//]@[\\u4e00-\\u9fa5-_a-zA-Z0-9]+?[:：]',' [PER] ',i)#开头转发\n",
    "                i = re.sub(r'@[\\u4e00-\\u9fa5-_a-zA-Z0-9]+',' [PER] ',i)\n",
    "\n",
    "            i = re.sub(r'原文转发\\[\\d+\\]','',i)\n",
    "            i = re.sub(r'原文评论\\[\\d+\\]','',i)\n",
    "            i = re.sub(r'(回复)+', \"\", i)\n",
    "            i = re.sub(r'(转发微博)+','',i)\n",
    "            i = re.sub(r'转发理由:','',i)\n",
    "            i = re.sub(r'(\\\\|//).+?[:：]','',i)#//句内转发\n",
    "            i = re.sub(r'[(（]分享自.+[）)]','',i)#分享\n",
    "            i = re.sub(r'(\\[PER\\]\\s*)+',' [PER] ',i)\n",
    "            i = re.sub(r'（）|【】|\\(\\)|\\{\\}|\\[\\]','',i)\n",
    "            i = re.sub('&quot;|&amp;|&gt;|&lt;|→_→|●','',i)\n",
    "            i = re.sub(r'[.。]{6,}','……',i)\n",
    "            i = re.sub(r'[?？]{3,}','？？？',i)\n",
    "            i = re.sub(r'[！!]{3,}','！！！',i)\n",
    "            i = re.sub(r'…{2,}','……',i)\n",
    "            i = re.sub(pic_pattern,'',i)\n",
    "            i = re.sub(r\"\\s{2,}\", \" \", i)\n",
    "            i = re.sub(r\"^转发了[\\u4e00-\\u9fa5-_a-zA-Z0-9]+?的微博\\s*?[:：]\", \"\", i)\n",
    "            i = re.sub(r\"(/{2,})|(\\{2,})|(-{2,})|(-\\s+?-)|[～~]\", \"\", i)\n",
    "            i = re.sub(r\"!\\s*?\", \"！\", i)\n",
    "            i = re.sub(r\",\\s*?\", \"，\", i)\n",
    "            i = re.sub(r\"\\?\\s*?\", \"？\", i)\n",
    "            i = re.sub(r\"^[:：]+\", \"\", i)\n",
    "            if re.match(r'^[^\\u4e00-\\u9fa5a-zA-Z0-9]+$','i') is not None:\n",
    "                i = i[0]\n",
    "            df.loc[index,t[0]] = i.strip()"
   ]
  },
  {
   "cell_type": "code",
   "execution_count": 27,
   "metadata": {},
   "outputs": [],
   "source": [
    "pattern_filting(train_dataset)"
   ]
  },
  {
   "cell_type": "code",
   "execution_count": 28,
   "metadata": {},
   "outputs": [],
   "source": [
    "pattern_filting(dev_dataset)"
   ]
  },
  {
   "cell_type": "markdown",
   "metadata": {},
   "source": [
    "### save raw data "
   ]
  },
  {
   "cell_type": "code",
   "execution_count": 32,
   "metadata": {},
   "outputs": [],
   "source": [
    "weibo_dataset = pd.concat([train_dataset[train_dataset['Is_weibo']],dev_dataset[dev_dataset['Is_weibo']]],axis=0)\n",
    "no_weibo_dataset = pd.concat([train_dataset[~train_dataset['Is_weibo']],dev_dataset[~dev_dataset['Is_weibo']]],axis=0)\n",
    "\n",
    "with open('weibo_raw.txt','w',encoding='utf-8') as f:\n",
    "    f.writelines('\\n'.join(weibo_dataset['All_text'].values.tolist()))\n",
    "\n",
    "with open('no_weibo_raw.txt','w',encoding='utf-8') as f:\n",
    "    f.writelines('\\n'.join(no_weibo_dataset['All_text'].values.tolist()))"
   ]
  },
  {
   "cell_type": "code",
   "execution_count": 261,
   "metadata": {},
   "outputs": [],
   "source": [
    "# train_dataset['All_text_len'] = train_dataset['All_text'].apply(len)\n",
    "# train_dataset['Text_len'] = train_dataset['Text'].apply(len)\n",
    "\n",
    "# dev_dataset['All_text_len'] = dev_dataset['All_text'].apply(len)\n",
    "# dev_dataset['Text_len'] = dev_dataset['Text'].apply(len)\n"
   ]
  },
  {
   "cell_type": "code",
   "execution_count": 11,
   "metadata": {},
   "outputs": [],
   "source": [
    "weibo_train = train_dataset[~train_dataset['Is_weibo']]\n",
    "weibo_dev = dev_dataset[~dev_dataset['Is_weibo']]"
   ]
  },
  {
   "cell_type": "markdown",
   "metadata": {},
   "source": [
    "### 生成微博分类数据集"
   ]
  },
  {
   "cell_type": "code",
   "execution_count": 16,
   "metadata": {},
   "outputs": [],
   "source": [
    "weibo_train[['Text','Label']].to_csv('weibo_trian.csv',index=False,sep=',', header=None)\n",
    "weibo_dev[['Text','Label']].to_csv('weibo_dev.csv',index=False,sep=',', header=None)"
   ]
  },
  {
   "cell_type": "code",
   "execution_count": 18,
   "metadata": {},
   "outputs": [],
   "source": [
    "import os\n",
    "\n",
    "label_map = {0:'norm',1:'pos',2:'neg'}\n",
    "\n",
    "def save(lst,tag,label):\n",
    "    if not os.path.exists(tag):\n",
    "        os.mkdir(tag)\n",
    "    if not os.path.exists(os.path.join(tag,label)):\n",
    "        os.mkdir(os.path.join(tag,label))\n",
    "    with open(os.path.join(tag,label,label+'.txt'),'w') as f:\n",
    "        f.writelines('\\n'.join(lst))"
   ]
  },
  {
   "cell_type": "code",
   "execution_count": 19,
   "metadata": {},
   "outputs": [],
   "source": [
    "save(weibo_train[weibo_train['Label']==0]['Text'].values.tolist(),'train',label_map[0])\n",
    "save(weibo_train[weibo_train['Label']==1]['Text'].values.tolist(),'train',label_map[1])\n",
    "save(weibo_train[weibo_train['Label']==2]['Text'].values.tolist(),'train',label_map[2])"
   ]
  },
  {
   "cell_type": "code",
   "execution_count": 20,
   "metadata": {},
   "outputs": [],
   "source": [
    "save(weibo_dev[weibo_dev['Label']==0]['Text'].values.tolist(),'dev',label_map[0])\n",
    "save(weibo_dev[weibo_dev['Label']==1]['Text'].values.tolist(),'dev',label_map[1])\n",
    "save(weibo_dev[weibo_dev['Label']==2]['Text'].values.tolist(),'dev',label_map[2])"
   ]
  },
  {
   "cell_type": "code",
   "execution_count": 302,
   "metadata": {},
   "outputs": [],
   "source": [
    "# 这种情况True的label一定为0\n",
    "def fn(x):\n",
    "    return re.match(r'^[^\\u4e00-\\u9fa5a-zA-Z0-9]+$',x) is not None\n",
    "train_dataset['Test'] = train_dataset['Text'].apply(fn)\n",
    "#train_dataset[train_dataset['Test']==True]"
   ]
  },
  {
   "cell_type": "code",
   "execution_count": null,
   "metadata": {},
   "outputs": [],
   "source": [
    "# weibo_train[weibo_train['Test']==False]"
   ]
  },
  {
   "cell_type": "code",
   "execution_count": null,
   "metadata": {},
   "outputs": [],
   "source": []
  },
  {
   "cell_type": "markdown",
   "metadata": {},
   "source": [
    "### 分析有多个label的Doc"
   ]
  },
  {
   "cell_type": "code",
   "execution_count": 177,
   "metadata": {},
   "outputs": [
    {
     "name": "stdout",
     "output_type": "stream",
     "text": [
      "12664\n"
     ]
    }
   ],
   "source": [
    "print(len(train_dataset['Doc_id'].unique()))# doc 总数目"
   ]
  },
  {
   "cell_type": "code",
   "execution_count": 135,
   "metadata": {},
   "outputs": [
    {
     "name": "stdout",
     "output_type": "stream",
     "text": [
      "1495\n"
     ]
    }
   ],
   "source": [
    "Doc_id = train_dataset['Doc_id']\n",
    "df = Doc_id.value_counts()\n",
    "idxs = df[df>1].index.tolist()\n",
    "print(len(idxs))# 多个label 的doc数目\n",
    "\n",
    "count = pd.DataFrame() # 统计label不一致的doc\n",
    "for idx in idxs:\n",
    "    mask = (train_dataset['Doc_id'] == idx)\n",
    "    target = train_dataset[mask]\n",
    "    if target['Label'].any():# 只保存label不一致的doc\n",
    "        count = pd.concat([count,target])"
   ]
  },
  {
   "cell_type": "code",
   "execution_count": 138,
   "metadata": {},
   "outputs": [
    {
     "data": {
      "text/plain": [
       "1330"
      ]
     },
     "execution_count": 138,
     "metadata": {},
     "output_type": "execute_result"
    }
   ],
   "source": [
    "count.to_excel('multi_labels_df.xls')\n",
    "len(count)"
   ]
  },
  {
   "cell_type": "code",
   "execution_count": 186,
   "metadata": {},
   "outputs": [
    {
     "data": {
      "text/html": [
       "<div>\n",
       "<style scoped>\n",
       "    .dataframe tbody tr th:only-of-type {\n",
       "        vertical-align: middle;\n",
       "    }\n",
       "\n",
       "    .dataframe tbody tr th {\n",
       "        vertical-align: top;\n",
       "    }\n",
       "\n",
       "    .dataframe thead th {\n",
       "        text-align: right;\n",
       "    }\n",
       "</style>\n",
       "<table border=\"1\" class=\"dataframe\">\n",
       "  <thead>\n",
       "    <tr style=\"text-align: right;\">\n",
       "      <th></th>\n",
       "      <th>Label</th>\n",
       "      <th>All_text_len</th>\n",
       "      <th>Text_len</th>\n",
       "    </tr>\n",
       "  </thead>\n",
       "  <tbody>\n",
       "    <tr>\n",
       "      <th>count</th>\n",
       "      <td>5291.000000</td>\n",
       "      <td>5291.000000</td>\n",
       "      <td>5291.000000</td>\n",
       "    </tr>\n",
       "    <tr>\n",
       "      <th>mean</th>\n",
       "      <td>0.351729</td>\n",
       "      <td>164.658855</td>\n",
       "      <td>24.909280</td>\n",
       "    </tr>\n",
       "    <tr>\n",
       "      <th>std</th>\n",
       "      <td>0.683651</td>\n",
       "      <td>90.044869</td>\n",
       "      <td>18.893245</td>\n",
       "    </tr>\n",
       "    <tr>\n",
       "      <th>min</th>\n",
       "      <td>0.000000</td>\n",
       "      <td>1.000000</td>\n",
       "      <td>0.000000</td>\n",
       "    </tr>\n",
       "    <tr>\n",
       "      <th>25%</th>\n",
       "      <td>0.000000</td>\n",
       "      <td>115.000000</td>\n",
       "      <td>14.000000</td>\n",
       "    </tr>\n",
       "    <tr>\n",
       "      <th>50%</th>\n",
       "      <td>0.000000</td>\n",
       "      <td>156.000000</td>\n",
       "      <td>22.000000</td>\n",
       "    </tr>\n",
       "    <tr>\n",
       "      <th>75%</th>\n",
       "      <td>0.000000</td>\n",
       "      <td>202.000000</td>\n",
       "      <td>30.000000</td>\n",
       "    </tr>\n",
       "    <tr>\n",
       "      <th>max</th>\n",
       "      <td>2.000000</td>\n",
       "      <td>1572.000000</td>\n",
       "      <td>205.000000</td>\n",
       "    </tr>\n",
       "  </tbody>\n",
       "</table>\n",
       "</div>"
      ],
      "text/plain": [
       "             Label  All_text_len     Text_len\n",
       "count  5291.000000   5291.000000  5291.000000\n",
       "mean      0.351729    164.658855    24.909280\n",
       "std       0.683651     90.044869    18.893245\n",
       "min       0.000000      1.000000     0.000000\n",
       "25%       0.000000    115.000000    14.000000\n",
       "50%       0.000000    156.000000    22.000000\n",
       "75%       0.000000    202.000000    30.000000\n",
       "max       2.000000   1572.000000   205.000000"
      ]
     },
     "execution_count": 186,
     "metadata": {},
     "output_type": "execute_result"
    }
   ],
   "source": [
    "train_dataset[train_dataset['Is_weibo']].describe()"
   ]
  },
  {
   "cell_type": "code",
   "execution_count": 185,
   "metadata": {},
   "outputs": [
    {
     "data": {
      "text/html": [
       "<div>\n",
       "<style scoped>\n",
       "    .dataframe tbody tr th:only-of-type {\n",
       "        vertical-align: middle;\n",
       "    }\n",
       "\n",
       "    .dataframe tbody tr th {\n",
       "        vertical-align: top;\n",
       "    }\n",
       "\n",
       "    .dataframe thead th {\n",
       "        text-align: right;\n",
       "    }\n",
       "</style>\n",
       "<table border=\"1\" class=\"dataframe\">\n",
       "  <thead>\n",
       "    <tr style=\"text-align: right;\">\n",
       "      <th></th>\n",
       "      <th>Label</th>\n",
       "      <th>All_text_len</th>\n",
       "      <th>Text_len</th>\n",
       "    </tr>\n",
       "  </thead>\n",
       "  <tbody>\n",
       "    <tr>\n",
       "      <th>count</th>\n",
       "      <td>1810.000000</td>\n",
       "      <td>1810.000000</td>\n",
       "      <td>1810.000000</td>\n",
       "    </tr>\n",
       "    <tr>\n",
       "      <th>mean</th>\n",
       "      <td>0.329834</td>\n",
       "      <td>188.573481</td>\n",
       "      <td>32.854144</td>\n",
       "    </tr>\n",
       "    <tr>\n",
       "      <th>std</th>\n",
       "      <td>0.667532</td>\n",
       "      <td>76.405463</td>\n",
       "      <td>19.556547</td>\n",
       "    </tr>\n",
       "    <tr>\n",
       "      <th>min</th>\n",
       "      <td>0.000000</td>\n",
       "      <td>24.000000</td>\n",
       "      <td>12.000000</td>\n",
       "    </tr>\n",
       "    <tr>\n",
       "      <th>25%</th>\n",
       "      <td>0.000000</td>\n",
       "      <td>139.000000</td>\n",
       "      <td>22.000000</td>\n",
       "    </tr>\n",
       "    <tr>\n",
       "      <th>50%</th>\n",
       "      <td>0.000000</td>\n",
       "      <td>180.000000</td>\n",
       "      <td>27.000000</td>\n",
       "    </tr>\n",
       "    <tr>\n",
       "      <th>75%</th>\n",
       "      <td>0.000000</td>\n",
       "      <td>234.750000</td>\n",
       "      <td>35.000000</td>\n",
       "    </tr>\n",
       "    <tr>\n",
       "      <th>max</th>\n",
       "      <td>2.000000</td>\n",
       "      <td>856.000000</td>\n",
       "      <td>240.000000</td>\n",
       "    </tr>\n",
       "  </tbody>\n",
       "</table>\n",
       "</div>"
      ],
      "text/plain": [
       "             Label  All_text_len     Text_len\n",
       "count  1810.000000   1810.000000  1810.000000\n",
       "mean      0.329834    188.573481    32.854144\n",
       "std       0.667532     76.405463    19.556547\n",
       "min       0.000000     24.000000    12.000000\n",
       "25%       0.000000    139.000000    22.000000\n",
       "50%       0.000000    180.000000    27.000000\n",
       "75%       0.000000    234.750000    35.000000\n",
       "max       2.000000    856.000000   240.000000"
      ]
     },
     "execution_count": 185,
     "metadata": {},
     "output_type": "execute_result"
    }
   ],
   "source": [
    "dev_dataset[dev_dataset['Is_weibo']].describe()"
   ]
  },
  {
   "cell_type": "code",
   "execution_count": 182,
   "metadata": {},
   "outputs": [
    {
     "data": {
      "text/html": [
       "<div>\n",
       "<style scoped>\n",
       "    .dataframe tbody tr th:only-of-type {\n",
       "        vertical-align: middle;\n",
       "    }\n",
       "\n",
       "    .dataframe tbody tr th {\n",
       "        vertical-align: top;\n",
       "    }\n",
       "\n",
       "    .dataframe thead th {\n",
       "        text-align: right;\n",
       "    }\n",
       "</style>\n",
       "<table border=\"1\" class=\"dataframe\">\n",
       "  <thead>\n",
       "    <tr style=\"text-align: right;\">\n",
       "      <th></th>\n",
       "      <th>Label</th>\n",
       "      <th>All_text_len</th>\n",
       "      <th>Text_len</th>\n",
       "    </tr>\n",
       "  </thead>\n",
       "  <tbody>\n",
       "    <tr>\n",
       "      <th>count</th>\n",
       "      <td>9497.000000</td>\n",
       "      <td>9497.000000</td>\n",
       "      <td>9497.000000</td>\n",
       "    </tr>\n",
       "    <tr>\n",
       "      <th>mean</th>\n",
       "      <td>1.040434</td>\n",
       "      <td>120.525640</td>\n",
       "      <td>27.317469</td>\n",
       "    </tr>\n",
       "    <tr>\n",
       "      <th>std</th>\n",
       "      <td>0.811179</td>\n",
       "      <td>155.763992</td>\n",
       "      <td>13.819162</td>\n",
       "    </tr>\n",
       "    <tr>\n",
       "      <th>min</th>\n",
       "      <td>0.000000</td>\n",
       "      <td>6.000000</td>\n",
       "      <td>6.000000</td>\n",
       "    </tr>\n",
       "    <tr>\n",
       "      <th>25%</th>\n",
       "      <td>0.000000</td>\n",
       "      <td>35.000000</td>\n",
       "      <td>21.000000</td>\n",
       "    </tr>\n",
       "    <tr>\n",
       "      <th>50%</th>\n",
       "      <td>1.000000</td>\n",
       "      <td>49.000000</td>\n",
       "      <td>23.000000</td>\n",
       "    </tr>\n",
       "    <tr>\n",
       "      <th>75%</th>\n",
       "      <td>2.000000</td>\n",
       "      <td>144.000000</td>\n",
       "      <td>28.000000</td>\n",
       "    </tr>\n",
       "    <tr>\n",
       "      <th>max</th>\n",
       "      <td>2.000000</td>\n",
       "      <td>1010.000000</td>\n",
       "      <td>174.000000</td>\n",
       "    </tr>\n",
       "  </tbody>\n",
       "</table>\n",
       "</div>"
      ],
      "text/plain": [
       "             Label  All_text_len     Text_len\n",
       "count  9497.000000   9497.000000  9497.000000\n",
       "mean      1.040434    120.525640    27.317469\n",
       "std       0.811179    155.763992    13.819162\n",
       "min       0.000000      6.000000     6.000000\n",
       "25%       0.000000     35.000000    21.000000\n",
       "50%       1.000000     49.000000    23.000000\n",
       "75%       2.000000    144.000000    28.000000\n",
       "max       2.000000   1010.000000   174.000000"
      ]
     },
     "execution_count": 182,
     "metadata": {},
     "output_type": "execute_result"
    }
   ],
   "source": [
    "train_dataset[~train_dataset['Is_weibo']].describe()"
   ]
  },
  {
   "cell_type": "code",
   "execution_count": 184,
   "metadata": {},
   "outputs": [
    {
     "data": {
      "text/html": [
       "<div>\n",
       "<style scoped>\n",
       "    .dataframe tbody tr th:only-of-type {\n",
       "        vertical-align: middle;\n",
       "    }\n",
       "\n",
       "    .dataframe tbody tr th {\n",
       "        vertical-align: top;\n",
       "    }\n",
       "\n",
       "    .dataframe thead th {\n",
       "        text-align: right;\n",
       "    }\n",
       "</style>\n",
       "<table border=\"1\" class=\"dataframe\">\n",
       "  <thead>\n",
       "    <tr style=\"text-align: right;\">\n",
       "      <th></th>\n",
       "      <th>Label</th>\n",
       "      <th>All_text_len</th>\n",
       "      <th>Text_len</th>\n",
       "    </tr>\n",
       "  </thead>\n",
       "  <tbody>\n",
       "    <tr>\n",
       "      <th>count</th>\n",
       "      <td>3335.000000</td>\n",
       "      <td>3335.000000</td>\n",
       "      <td>3335.000000</td>\n",
       "    </tr>\n",
       "    <tr>\n",
       "      <th>mean</th>\n",
       "      <td>1.005097</td>\n",
       "      <td>127.834183</td>\n",
       "      <td>27.406897</td>\n",
       "    </tr>\n",
       "    <tr>\n",
       "      <th>std</th>\n",
       "      <td>0.829299</td>\n",
       "      <td>169.274842</td>\n",
       "      <td>14.425957</td>\n",
       "    </tr>\n",
       "    <tr>\n",
       "      <th>min</th>\n",
       "      <td>0.000000</td>\n",
       "      <td>20.000000</td>\n",
       "      <td>8.000000</td>\n",
       "    </tr>\n",
       "    <tr>\n",
       "      <th>25%</th>\n",
       "      <td>0.000000</td>\n",
       "      <td>35.000000</td>\n",
       "      <td>21.000000</td>\n",
       "    </tr>\n",
       "    <tr>\n",
       "      <th>50%</th>\n",
       "      <td>1.000000</td>\n",
       "      <td>51.000000</td>\n",
       "      <td>23.000000</td>\n",
       "    </tr>\n",
       "    <tr>\n",
       "      <th>75%</th>\n",
       "      <td>2.000000</td>\n",
       "      <td>149.500000</td>\n",
       "      <td>29.000000</td>\n",
       "    </tr>\n",
       "    <tr>\n",
       "      <th>max</th>\n",
       "      <td>2.000000</td>\n",
       "      <td>1039.000000</td>\n",
       "      <td>251.000000</td>\n",
       "    </tr>\n",
       "  </tbody>\n",
       "</table>\n",
       "</div>"
      ],
      "text/plain": [
       "             Label  All_text_len     Text_len\n",
       "count  3335.000000   3335.000000  3335.000000\n",
       "mean      1.005097    127.834183    27.406897\n",
       "std       0.829299    169.274842    14.425957\n",
       "min       0.000000     20.000000     8.000000\n",
       "25%       0.000000     35.000000    21.000000\n",
       "50%       1.000000     51.000000    23.000000\n",
       "75%       2.000000    149.500000    29.000000\n",
       "max       2.000000   1039.000000   251.000000"
      ]
     },
     "execution_count": 184,
     "metadata": {},
     "output_type": "execute_result"
    }
   ],
   "source": [
    "dev_dataset[~dev_dataset['Is_weibo']].describe()"
   ]
  },
  {
   "cell_type": "code",
   "execution_count": 210,
   "metadata": {},
   "outputs": [
    {
     "data": {
      "text/plain": [
       "<matplotlib.axes._subplots.AxesSubplot at 0x7fd590f0a278>"
      ]
     },
     "execution_count": 210,
     "metadata": {},
     "output_type": "execute_result"
    },
    {
     "data": {
      "image/png": "[encoded data removed]",
      "text/plain": [
       "<Figure size 864x864 with 6 Axes>"
      ]
     },
     "metadata": {},
     "output_type": "display_data"
    }
   ],
   "source": [
    "f,ax = plt.subplots(3,2,figsize=(12,12))\n",
    "sb.countplot(x='Label',data=train_dataset,ax=ax[0,0],)\n",
    "sb.countplot(x='Label',hue='Is_weibo',data=train_dataset,ax=ax[0,1],)\n",
    "sb.countplot(x='Is_weibo',data=train_dataset,ax=ax[1,0],)\n",
    "sb.countplot(x='Is_weibo',hue='Label',data=train_dataset,ax=ax[1,1],)\n",
    "\n",
    "sb.countplot(x='Is_weibo',data=dev_dataset,ax=ax[2,0],)\n",
    "sb.countplot(x='Is_weibo',hue='Label',data=dev_dataset,ax=ax[2,1],)"
   ]
  },
  {
   "cell_type": "code",
   "execution_count": 190,
   "metadata": {},
   "outputs": [
    {
     "name": "stderr",
     "output_type": "stream",
     "text": [
      "/home/jasonhaven/anaconda3/lib/python3.6/site-packages/scipy/stats/stats.py:1713: FutureWarning: Using a non-tuple sequence for multidimensional indexing is deprecated; use `arr[tuple(seq)]` instead of `arr[seq]`. In the future this will be interpreted as an array index, `arr[np.array(seq)]`, which will result either in an error or a different result.\n",
      "  return np.add.reduce(sorted[indexer] * weights, axis=axis) / sumval\n"
     ]
    },
    {
     "data": {
      "text/plain": [
       "<matplotlib.axes._subplots.AxesSubplot at 0x7fd5939a4fd0>"
      ]
     },
     "execution_count": 190,
     "metadata": {},
     "output_type": "execute_result"
    },
    {
     "data": {
      "image/png": "[encoded data removed]",
      "text/plain": [
       "<Figure size 864x720 with 4 Axes>"
      ]
     },
     "metadata": {},
     "output_type": "display_data"
    }
   ],
   "source": [
    "f,ax = plt.subplots(2,2,figsize=(12,10))\n",
    "sb.distplot(train_dataset['Text_len'],hist=False,ax=ax[0,0])\n",
    "sb.distplot(train_dataset['All_text_len'],hist=False,ax=ax[0,1])\n",
    "\n",
    "sb.distplot(train_dataset[train_dataset['Label']==0]['Text_len'],hist=False,color='r',ax=ax[1,0])\n",
    "sb.distplot(train_dataset[train_dataset['Label']==1]['Text_len'],hist=False,color='g',ax=ax[1,0])\n",
    "sb.distplot(train_dataset[train_dataset['Label']==2]['Text_len'],hist=False,color='b',ax=ax[1,0])\n",
    "\n",
    "sb.distplot(train_dataset[train_dataset['Label']==0]['All_text_len'],hist=False,color='r',ax=ax[1,1])\n",
    "sb.distplot(train_dataset[train_dataset['Label']==1]['All_text_len'],hist=False,color='g',ax=ax[1,1])\n",
    "sb.distplot(train_dataset[train_dataset['Label']==2]['All_text_len'],hist=False,color='b',ax=ax[1,1])"
   ]
  },
  {
   "cell_type": "code",
   "execution_count": 216,
   "metadata": {},
   "outputs": [
    {
     "name": "stderr",
     "output_type": "stream",
     "text": [
      "/home/jasonhaven/anaconda3/lib/python3.6/site-packages/scipy/stats/stats.py:1713: FutureWarning: Using a non-tuple sequence for multidimensional indexing is deprecated; use `arr[tuple(seq)]` instead of `arr[seq]`. In the future this will be interpreted as an array index, `arr[np.array(seq)]`, which will result either in an error or a different result.\n",
      "  return np.add.reduce(sorted[indexer] * weights, axis=axis) / sumval\n"
     ]
    },
    {
     "data": {
      "text/plain": [
       "<matplotlib.axes._subplots.AxesSubplot at 0x7fd5bd704828>"
      ]
     },
     "execution_count": 216,
     "metadata": {},
     "output_type": "execute_result"
    },
    {
     "data": {
      "image/png": "[encoded data removed]",
      "text/plain": [
       "<Figure size 864x720 with 4 Axes>"
      ]
     },
     "metadata": {},
     "output_type": "display_data"
    }
   ],
   "source": [
    "weibo1 = train_dataset[train_dataset['Is_weibo']]\n",
    "weibo2 = dev_dataset[dev_dataset['Is_weibo']]\n",
    "\n",
    "f,ax = plt.subplots(2,2,figsize=(12,10))\n",
    "\n",
    "\n",
    "sb.distplot(weibo1['Text_len'],hist=False,ax=ax[0,0])\n",
    "sb.distplot(weibo1['All_text_len'],hist=False,ax=ax[0,1])\n",
    "\n",
    "sb.distplot(weibo1[weibo1['Label']==0]['Text_len'],hist=False,color='r',ax=ax[1,0])\n",
    "sb.distplot(weibo1[weibo1['Label']==1]['Text_len'],hist=False,color='g',ax=ax[1,0])\n",
    "sb.distplot(weibo1[weibo1['Label']==2]['Text_len'],hist=False,color='b',ax=ax[1,0])\n",
    "\n",
    "sb.distplot(weibo1[weibo1['Label']==0]['All_text_len'],hist=False,color='r',ax=ax[1,1])\n",
    "sb.distplot(weibo1[weibo1['Label']==1]['All_text_len'],hist=False,color='g',ax=ax[1,1])\n",
    "sb.distplot(weibo1[weibo1['Label']==2]['All_text_len'],hist=False,color='b',ax=ax[1,1])\n",
    "\n",
    "sb.distplot(weibo2['Text_len'],hist=False,ax=ax[0,0])\n",
    "sb.distplot(weibo2['All_text_len'],hist=False,ax=ax[0,1])\n",
    "\n",
    "sb.distplot(weibo2[weibo2['Label']==0]['Text_len'],hist=False,color='r',ax=ax[1,0])\n",
    "sb.distplot(weibo2[weibo2['Label']==1]['Text_len'],hist=False,color='g',ax=ax[1,0])\n",
    "sb.distplot(weibo2[weibo2['Label']==2]['Text_len'],hist=False,color='b',ax=ax[1,0])\n",
    "\n",
    "sb.distplot(weibo2[weibo2['Label']==0]['All_text_len'],hist=False,color='r',ax=ax[1,1])\n",
    "sb.distplot(weibo2[weibo2['Label']==1]['All_text_len'],hist=False,color='g',ax=ax[1,1])\n",
    "sb.distplot(weibo2[weibo2['Label']==2]['All_text_len'],hist=False,color='b',ax=ax[1,1])"
   ]
  },
  {
   "cell_type": "code",
   "execution_count": 217,
   "metadata": {},
   "outputs": [
    {
     "data": {
      "text/html": [
       "<div>\n",
       "<style scoped>\n",
       "    .dataframe tbody tr th:only-of-type {\n",
       "        vertical-align: middle;\n",
       "    }\n",
       "\n",
       "    .dataframe tbody tr th {\n",
       "        vertical-align: top;\n",
       "    }\n",
       "\n",
       "    .dataframe thead th {\n",
       "        text-align: right;\n",
       "    }\n",
       "</style>\n",
       "<table border=\"1\" class=\"dataframe\">\n",
       "  <thead>\n",
       "    <tr style=\"text-align: right;\">\n",
       "      <th></th>\n",
       "      <th>Text</th>\n",
       "      <th>Label</th>\n",
       "    </tr>\n",
       "  </thead>\n",
       "  <tbody>\n",
       "    <tr>\n",
       "      <th>9</th>\n",
       "      <td>北京时间24日凌晨，2012年斯德哥尔摩室内田径赛正在进行。</td>\n",
       "      <td>0</td>\n",
       "    </tr>\n",
       "    <tr>\n",
       "      <th>10</th>\n",
       "      <td>奥运会亚军选手曾经学过Breaking?</td>\n",
       "      <td>0</td>\n",
       "    </tr>\n",
       "    <tr>\n",
       "      <th>11</th>\n",
       "      <td>当今之世，是一个东南西北中，各有各的口味的时代。</td>\n",
       "      <td>0</td>\n",
       "    </tr>\n",
       "    <tr>\n",
       "      <th>12</th>\n",
       "      <td>这个时代，也有跟这个时代相匹配的传播条件。</td>\n",
       "      <td>0</td>\n",
       "    </tr>\n",
       "    <tr>\n",
       "      <th>13</th>\n",
       "      <td>靠太像了啊啊啊    [PER] 在看春晚么？</td>\n",
       "      <td>0</td>\n",
       "    </tr>\n",
       "    <tr>\n",
       "      <th>14</th>\n",
       "      <td>[PER]</td>\n",
       "      <td>0</td>\n",
       "    </tr>\n",
       "    <tr>\n",
       "      <th>15</th>\n",
       "      <td>两个娘娘腔，两只小人妖。</td>\n",
       "      <td>0</td>\n",
       "    </tr>\n",
       "    <tr>\n",
       "      <th>16</th>\n",
       "      <td>[PER] 据说，刘谦和傅琰东将同时亮相2012年CCTV龙年春晚的舞台。</td>\n",
       "      <td>0</td>\n",
       "    </tr>\n",
       "    <tr>\n",
       "      <th>55</th>\n",
       "      <td>林丹口型！！！</td>\n",
       "      <td>0</td>\n",
       "    </tr>\n",
       "    <tr>\n",
       "      <th>56</th>\n",
       "      <td>老娘心中有千万匹草泥马在狂奔！</td>\n",
       "      <td>0</td>\n",
       "    </tr>\n",
       "    <tr>\n",
       "      <th>57</th>\n",
       "      <td>林丹口型！！！</td>\n",
       "      <td>0</td>\n",
       "    </tr>\n",
       "    <tr>\n",
       "      <th>60</th>\n",
       "      <td>皇上！</td>\n",
       "      <td>0</td>\n",
       "    </tr>\n",
       "    <tr>\n",
       "      <th>67</th>\n",
       "      <td>中国女篮    [PER] 中国女篮奥运会首战66-57击败捷克队！</td>\n",
       "      <td>0</td>\n",
       "    </tr>\n",
       "    <tr>\n",
       "      <th>72</th>\n",
       "      <td>[PER] : 万年历上是这么写的。</td>\n",
       "      <td>0</td>\n",
       "    </tr>\n",
       "    <tr>\n",
       "      <th>78</th>\n",
       "      <td>参加国考面试，尤其是中央部委的千万好好研究一号文件啊。</td>\n",
       "      <td>0</td>\n",
       "    </tr>\n",
       "    <tr>\n",
       "      <th>80</th>\n",
       "      <td>痴人怎么老当开场啊?</td>\n",
       "      <td>0</td>\n",
       "    </tr>\n",
       "    <tr>\n",
       "      <th>81</th>\n",
       "      <td>路虎揽胜极光Evoque敞篷版，维多利亚·贝克汉姆参与设计?</td>\n",
       "      <td>0</td>\n",
       "    </tr>\n",
       "    <tr>\n",
       "      <th>83</th>\n",
       "      <td>早就发现这个了，没看点  [PER]</td>\n",
       "      <td>0</td>\n",
       "    </tr>\n",
       "    <tr>\n",
       "      <th>84</th>\n",
       "      <td>[PER] DHC卸妆油出限量版啦！</td>\n",
       "      <td>0</td>\n",
       "    </tr>\n",
       "    <tr>\n",
       "      <th>91</th>\n",
       "      <td>啊啊啊啊啊啊  [PER]</td>\n",
       "      <td>0</td>\n",
       "    </tr>\n",
       "    <tr>\n",
       "      <th>105</th>\n",
       "      <td>我猜首金是射击项目  [PER]</td>\n",
       "      <td>0</td>\n",
       "    </tr>\n",
       "    <tr>\n",
       "      <th>109</th>\n",
       "      <td>中国网事记者对浙江、湖北、上海、重庆、青海、安徽六省市“闯黄灯”执法情况进行了调查。</td>\n",
       "      <td>0</td>\n",
       "    </tr>\n",
       "    <tr>\n",
       "      <th>110</th>\n",
       "      <td>比起老崔，春晚他算个P啊！</td>\n",
       "      <td>0</td>\n",
       "    </tr>\n",
       "    <tr>\n",
       "      <th>111</th>\n",
       "      <td>【奥运-莎娃  [PER] 进决赛剑指金满贯】</td>\n",
       "      <td>0</td>\n",
       "    </tr>\n",
       "    <tr>\n",
       "      <th>118</th>\n",
       "      <td>——看到诗词我的灵魂的博文《[原创]苏幕遮》有感而发的评论。</td>\n",
       "      <td>0</td>\n",
       "    </tr>\n",
       "    <tr>\n",
       "      <th>119</th>\n",
       "      <td>once a red，always a red    [PER]</td>\n",
       "      <td>0</td>\n",
       "    </tr>\n",
       "    <tr>\n",
       "      <th>122</th>\n",
       "      <td>伦敦奥运开幕式和2008鸟巢开幕式有何不同？</td>\n",
       "      <td>0</td>\n",
       "    </tr>\n",
       "    <tr>\n",
       "      <th>128</th>\n",
       "      <td>1月23日，已由大理州旅游产业领导组办公室发文转承大理市人民政府办理。</td>\n",
       "      <td>0</td>\n",
       "    </tr>\n",
       "    <tr>\n",
       "      <th>129</th>\n",
       "      <td>目前，大理市和大理旅游质监所正进行调查。</td>\n",
       "      <td>0</td>\n",
       "    </tr>\n",
       "    <tr>\n",
       "      <th>130</th>\n",
       "      <td>[PER] ……</td>\n",
       "      <td>0</td>\n",
       "    </tr>\n",
       "    <tr>\n",
       "      <th>...</th>\n",
       "      <td>...</td>\n",
       "      <td>...</td>\n",
       "    </tr>\n",
       "    <tr>\n",
       "      <th>14648</th>\n",
       "      <td>6.10至12日端午节+6月13、14日两天请假+6月15、16日双休日=7天假期；</td>\n",
       "      <td>0</td>\n",
       "    </tr>\n",
       "    <tr>\n",
       "      <th>14649</th>\n",
       "      <td>10月1至7日国庆+10月8至11日请假4天+10月12、13日双休日=13天假期……</td>\n",
       "      <td>0</td>\n",
       "    </tr>\n",
       "    <tr>\n",
       "      <th>14655</th>\n",
       "      <td>中国队包揽本届奥运会羽毛球项目所有金牌。</td>\n",
       "      <td>0</td>\n",
       "    </tr>\n",
       "    <tr>\n",
       "      <th>14659</th>\n",
       "      <td>冯小刚搞完电影，搞春晚；</td>\n",
       "      <td>0</td>\n",
       "    </tr>\n",
       "    <tr>\n",
       "      <th>14663</th>\n",
       "      <td>有人问我，你们今天有什么演出？</td>\n",
       "      <td>0</td>\n",
       "    </tr>\n",
       "    <tr>\n",
       "      <th>14666</th>\n",
       "      <td>相比之下，员外您那还叫相声么？</td>\n",
       "      <td>0</td>\n",
       "    </tr>\n",
       "    <tr>\n",
       "      <th>14673</th>\n",
       "      <td>还有如果我没有记错的话，今天还是丞琳的农历生日吧！</td>\n",
       "      <td>0</td>\n",
       "    </tr>\n",
       "    <tr>\n",
       "      <th>14686</th>\n",
       "      <td>五黄指黄瓜、黄鳝、黄鱼、咸鸭蛋黄、雄黄酒。</td>\n",
       "      <td>0</td>\n",
       "    </tr>\n",
       "    <tr>\n",
       "      <th>14692</th>\n",
       "      <td>湖南卫视小年夜春晚 2014湖南卫视小年夜春晚主题为</td>\n",
       "      <td>0</td>\n",
       "    </tr>\n",
       "    <tr>\n",
       "      <th>14693</th>\n",
       "      <td>，由陈汝涵团队操刀，小年夜晚黄金时间现场直播。</td>\n",
       "      <td>0</td>\n",
       "    </tr>\n",
       "    <tr>\n",
       "      <th>14696</th>\n",
       "      <td>北京市人民政府办公厅今日发布2013年端午节放假安排通知：6月10日(星期一)至12日(星期...</td>\n",
       "      <td>0</td>\n",
       "    </tr>\n",
       "    <tr>\n",
       "      <th>14699</th>\n",
       "      <td>杨帅输我们小强了，四进二输的。</td>\n",
       "      <td>0</td>\n",
       "    </tr>\n",
       "    <tr>\n",
       "      <th>14705</th>\n",
       "      <td>屈原与楚王同姓不同氏（楚王为芈姓熊氏）。</td>\n",
       "      <td>0</td>\n",
       "    </tr>\n",
       "    <tr>\n",
       "      <th>14706</th>\n",
       "      <td>加班费多吗？</td>\n",
       "      <td>0</td>\n",
       "    </tr>\n",
       "    <tr>\n",
       "      <th>14724</th>\n",
       "      <td>国酒定为独流老醋,国宴是狗不理一人一笼;</td>\n",
       "      <td>0</td>\n",
       "    </tr>\n",
       "    <tr>\n",
       "      <th>14725</th>\n",
       "      <td>另据悉，《泰囧》编剧  [PER] 将打造  [PER] 的蛇年春晚小品。</td>\n",
       "      <td>0</td>\n",
       "    </tr>\n",
       "    <tr>\n",
       "      <th>14726</th>\n",
       "      <td>[PER]</td>\n",
       "      <td>0</td>\n",
       "    </tr>\n",
       "    <tr>\n",
       "      <th>14727</th>\n",
       "      <td>转发评论本微博并@ 三位好友参与微博互动。</td>\n",
       "      <td>0</td>\n",
       "    </tr>\n",
       "    <tr>\n",
       "      <th>14728</th>\n",
       "      <td>今年过年比往年不同的是，吃着饺子看春晚，刷着微博看微信。</td>\n",
       "      <td>0</td>\n",
       "    </tr>\n",
       "    <tr>\n",
       "      <th>14730</th>\n",
       "      <td>[PER]</td>\n",
       "      <td>0</td>\n",
       "    </tr>\n",
       "    <tr>\n",
       "      <th>14734</th>\n",
       "      <td>[zongzi]    [PER] 我参与了投票</td>\n",
       "      <td>0</td>\n",
       "    </tr>\n",
       "    <tr>\n",
       "      <th>14749</th>\n",
       "      <td>2013请假全攻略    [PER]</td>\n",
       "      <td>0</td>\n",
       "    </tr>\n",
       "    <tr>\n",
       "      <th>14751</th>\n",
       "      <td>亲，你不要这样，我不要一个人瞎眼。</td>\n",
       "      <td>0</td>\n",
       "    </tr>\n",
       "    <tr>\n",
       "      <th>14755</th>\n",
       "      <td>【《指尖与足尖》借位视角 侯宏澜似站在钢琴上跳芭蕾】</td>\n",
       "      <td>0</td>\n",
       "    </tr>\n",
       "    <tr>\n",
       "      <th>14771</th>\n",
       "      <td>昨晚几个92、93、96的广院校友聚会，最后又提到了曹晴！</td>\n",
       "      <td>0</td>\n",
       "    </tr>\n",
       "    <tr>\n",
       "      <th>14776</th>\n",
       "      <td>[PER] 今天的~</td>\n",
       "      <td>0</td>\n",
       "    </tr>\n",
       "    <tr>\n",
       "      <th>14777</th>\n",
       "      <td>走过30年，第31届央视春晚将于2月9日20:00播出。</td>\n",
       "      <td>0</td>\n",
       "    </tr>\n",
       "    <tr>\n",
       "      <th>14778</th>\n",
       "      <td>頭髮又被氣少辣    [PER] 拿到银牌 和降回铜牌的瞬间。。。。</td>\n",
       "      <td>0</td>\n",
       "    </tr>\n",
       "    <tr>\n",
       "      <th>14783</th>\n",
       "      <td>【龙套：young tonshy、筱雨、佚名2 】</td>\n",
       "      <td>0</td>\n",
       "    </tr>\n",
       "    <tr>\n",
       "      <th>14784</th>\n",
       "      <td>1975年5月2日出生于伦敦，英格兰足球运动员，前任英格兰代表队队长，曾效力于曼联，目前所属...</td>\n",
       "      <td>0</td>\n",
       "    </tr>\n",
       "  </tbody>\n",
       "</table>\n",
       "<p>4063 rows × 2 columns</p>\n",
       "</div>"
      ],
      "text/plain": [
       "                                                    Text  Label\n",
       "9                         北京时间24日凌晨，2012年斯德哥尔摩室内田径赛正在进行。      0\n",
       "10                                  奥运会亚军选手曾经学过Breaking?      0\n",
       "11                              当今之世，是一个东南西北中，各有各的口味的时代。      0\n",
       "12                                 这个时代，也有跟这个时代相匹配的传播条件。      0\n",
       "13                               靠太像了啊啊啊    [PER] 在看春晚么？      0\n",
       "14                                                 [PER]      0\n",
       "15                                          两个娘娘腔，两只小人妖。      0\n",
       "16                 [PER] 据说，刘谦和傅琰东将同时亮相2012年CCTV龙年春晚的舞台。      0\n",
       "55                                               林丹口型！！！      0\n",
       "56                                       老娘心中有千万匹草泥马在狂奔！      0\n",
       "57                                               林丹口型！！！      0\n",
       "60                                                   皇上！      0\n",
       "67                    中国女篮    [PER] 中国女篮奥运会首战66-57击败捷克队！      0\n",
       "72                                    [PER] : 万年历上是这么写的。      0\n",
       "78                           参加国考面试，尤其是中央部委的千万好好研究一号文件啊。      0\n",
       "80                                            痴人怎么老当开场啊?      0\n",
       "81                        路虎揽胜极光Evoque敞篷版，维多利亚·贝克汉姆参与设计?      0\n",
       "83                                    早就发现这个了，没看点  [PER]      0\n",
       "84                                    [PER] DHC卸妆油出限量版啦！      0\n",
       "91                                         啊啊啊啊啊啊  [PER]      0\n",
       "105                                     我猜首金是射击项目  [PER]      0\n",
       "109           中国网事记者对浙江、湖北、上海、重庆、青海、安徽六省市“闯黄灯”执法情况进行了调查。      0\n",
       "110                                        比起老崔，春晚他算个P啊！      0\n",
       "111                              【奥运-莎娃  [PER] 进决赛剑指金满贯】      0\n",
       "118                       ——看到诗词我的灵魂的博文《[原创]苏幕遮》有感而发的评论。      0\n",
       "119                     once a red，always a red    [PER]      0\n",
       "122                               伦敦奥运开幕式和2008鸟巢开幕式有何不同？      0\n",
       "128                  1月23日，已由大理州旅游产业领导组办公室发文转承大理市人民政府办理。      0\n",
       "129                                 目前，大理市和大理旅游质监所正进行调查。      0\n",
       "130                                             [PER] ……      0\n",
       "...                                                  ...    ...\n",
       "14648         6.10至12日端午节+6月13、14日两天请假+6月15、16日双休日=7天假期；      0\n",
       "14649        10月1至7日国庆+10月8至11日请假4天+10月12、13日双休日=13天假期……      0\n",
       "14655                               中国队包揽本届奥运会羽毛球项目所有金牌。      0\n",
       "14659                                       冯小刚搞完电影，搞春晚；      0\n",
       "14663                                    有人问我，你们今天有什么演出？      0\n",
       "14666                                    相比之下，员外您那还叫相声么？      0\n",
       "14673                          还有如果我没有记错的话，今天还是丞琳的农历生日吧！      0\n",
       "14686                              五黄指黄瓜、黄鳝、黄鱼、咸鸭蛋黄、雄黄酒。      0\n",
       "14692                         湖南卫视小年夜春晚 2014湖南卫视小年夜春晚主题为      0\n",
       "14693                            ，由陈汝涵团队操刀，小年夜晚黄金时间现场直播。      0\n",
       "14696  北京市人民政府办公厅今日发布2013年端午节放假安排通知：6月10日(星期一)至12日(星期...      0\n",
       "14699                                    杨帅输我们小强了，四进二输的。      0\n",
       "14705                               屈原与楚王同姓不同氏（楚王为芈姓熊氏）。      0\n",
       "14706                                             加班费多吗？      0\n",
       "14724                               国酒定为独流老醋,国宴是狗不理一人一笼;      0\n",
       "14725              另据悉，《泰囧》编剧  [PER] 将打造  [PER] 的蛇年春晚小品。      0\n",
       "14726                                              [PER]      0\n",
       "14727                              转发评论本微博并@ 三位好友参与微博互动。      0\n",
       "14728                       今年过年比往年不同的是，吃着饺子看春晚，刷着微博看微信。      0\n",
       "14730                                              [PER]      0\n",
       "14734                           [zongzi]    [PER] 我参与了投票      0\n",
       "14749                                 2013请假全攻略    [PER]      0\n",
       "14751                                  亲，你不要这样，我不要一个人瞎眼。      0\n",
       "14755                         【《指尖与足尖》借位视角 侯宏澜似站在钢琴上跳芭蕾】      0\n",
       "14771                      昨晚几个92、93、96的广院校友聚会，最后又提到了曹晴！      0\n",
       "14776                                         [PER] 今天的~      0\n",
       "14777                       走过30年，第31届央视春晚将于2月9日20:00播出。      0\n",
       "14778                 頭髮又被氣少辣    [PER] 拿到银牌 和降回铜牌的瞬间。。。。      0\n",
       "14783                          【龙套：young tonshy、筱雨、佚名2 】      0\n",
       "14784  1975年5月2日出生于伦敦，英格兰足球运动员，前任英格兰代表队队长，曾效力于曼联，目前所属...      0\n",
       "\n",
       "[4063 rows x 2 columns]"
      ]
     },
     "execution_count": 217,
     "metadata": {},
     "output_type": "execute_result"
    }
   ],
   "source": [
    "weibo[weibo['Label']==0][['Text','Label']]"
   ]
  },
  {
   "cell_type": "code",
   "execution_count": 232,
   "metadata": {},
   "outputs": [],
   "source": [
    "from sklearn.model_selection import cross_val_score\n",
    "from sklearn.feature_extraction.text import CountVectorizer\n",
    "from sklearn.feature_extraction.text import TfidfVectorizer\n",
    "import matplotlib.pyplot as plt\n",
    "import jieba\n",
    "from sklearn.naive_bayes import MultinomialNB\n",
    "\n",
    "\n",
    "def stopwordslist(filepath):\n",
    "    stopwords = [line.strip() for line in open(filepath, 'r', encoding='utf-8').readlines()]\n",
    "    return stopwords\n",
    "\n",
    "X_train,y_train = train_dataset['Text'].values,train_dataset['Label'].values\n",
    "X_dev,y_dev = dev_dataset['Text'].values,dev_dataset['Label'].values\n",
    "\n",
    "stopwords = stopwordslist('stopword.txt')\n",
    "\n",
    "#分词\n",
    "for i in range(X_train.shape[0]):\n",
    "    sentence = ' '.join(w.strip() for w in jieba.cut(X_train[i]) if w.strip() not in stopwords)\n",
    "    X_train[i] = sentence\n",
    "for i in range(X_dev.shape[0]):\n",
    "    sentence = ' '.join(w.strip() for w in jieba.cut(X_dev[i]) if w.strip() not in stopwords)\n",
    "    X_dev[i] = sentence\n",
    "\n",
    "X_train_without_weibo,y_train_without_weibo = X_train[train_dataset['Is_weibo']==False],y_train[train_dataset['Is_weibo']==False]\n",
    "X_dev_without_weibo,y_dev_without_weibo = X_dev[dev_dataset['Is_weibo']==False],y_dev[dev_dataset['Is_weibo']==False]\n",
    "\n",
    "X_train_weibo,y_train_weibo = X_train[train_dataset['Is_weibo']==True],y_train[train_dataset['Is_weibo']==True]\n",
    "X_dev_weibo,y_dev_weibo = X_dev[dev_dataset['Is_weibo']==True],y_dev[dev_dataset['Is_weibo']==True]"
   ]
  },
  {
   "cell_type": "code",
   "execution_count": 228,
   "metadata": {},
   "outputs": [
    {
     "data": {
      "text/plain": [
       "((9207,), (5581,))"
      ]
     },
     "execution_count": 228,
     "metadata": {},
     "output_type": "execute_result"
    }
   ],
   "source": [
    "X_train_without_weibo.shape,X_train_weibo.shape"
   ]
  },
  {
   "cell_type": "code",
   "execution_count": 230,
   "metadata": {},
   "outputs": [
    {
     "data": {
      "text/plain": [
       "((3220,), (1925,))"
      ]
     },
     "execution_count": 230,
     "metadata": {},
     "output_type": "execute_result"
    }
   ],
   "source": [
    "X_dev_without_weibo.shape,X_dev_weibo.shape"
   ]
  },
  {
   "cell_type": "code",
   "execution_count": 236,
   "metadata": {},
   "outputs": [
    {
     "data": {
      "text/plain": [
       "array(['领悟 透 泪 泪', 'PER 说定了 ! 心 萌', '喔 唷 奥特曼', ...,\n",
       "       '中西 合璧 席琳迪翁 宋祖英 合唱 茉莉花',\n",
       "       '转发 东方 财富网 微博 股市 套现 百亿元 乐视 贾跃亭 12 亿 银行存款 冻结 乐视 金融机构 偿还 100 多亿元 贷款 非上市 体系 资金 报道 称乐视 供应商 欠款 级别',\n",
       "       '150 亿 打水漂 150 亿 撬动 2700 杠杆 资金 搏 一搏 绝大多数 企业家 眼睁睁 打水漂 贾跃亭 缺乏 一股 狠劲'],\n",
       "      dtype=object)"
      ]
     },
     "execution_count": 236,
     "metadata": {},
     "output_type": "execute_result"
    }
   ],
   "source": [
    "X_train_weibo"
   ]
  },
  {
   "cell_type": "markdown",
   "metadata": {},
   "source": [
    "#### tfidf/count LR"
   ]
  },
  {
   "cell_type": "code",
   "execution_count": 248,
   "metadata": {},
   "outputs": [
    {
     "name": "stderr",
     "output_type": "stream",
     "text": [
      "100%|██████████| 10/10 [05:42<00:00, 34.99s/it]\n",
      "No handles with labels found to put in legend.\n"
     ]
    },
    {
     "data": {
      "image/png": "[encoded data removed]",
      "text/plain": [
       "<Figure size 432x288 with 1 Axes>"
      ]
     },
     "metadata": {},
     "output_type": "display_data"
    }
   ],
   "source": [
    "from sklearn.naive_bayes import MultinomialNB\n",
    "from sklearn.linear_model import LogisticRegression\n",
    "from tqdm import tqdm\n",
    "\n",
    "k=list(range(10000,50000,4000))\n",
    "\n",
    "k_tfidf_score_all=[]\n",
    "k_tfidf_score_weibo=[]\n",
    "k_tfidf_score_notweibo=[]\n",
    "\n",
    "for i in tqdm(k):\n",
    "    tfidf=TfidfVectorizer(token_pattern=r\"(?u)\\b\\w+\\b\",max_features=i,min_df=2,ngram_range=(1,4))\n",
    "    \n",
    "    X_tfidf=tfidf.fit_transform(X_train)\n",
    "    model = LogisticRegression(solver='lbfgs',multi_class='multinomial')\n",
    "    scores_tfidf=cross_val_score(model,X_tfidf,y_train,cv=10,scoring='accuracy')\n",
    "    score_tfidf=scores_tfidf.mean()\n",
    "    k_tfidf_score_all.append(score_tfidf)\n",
    "    \n",
    "    X_tfidf=tfidf.fit_transform(X_train_weibo)\n",
    "    model = LogisticRegression(solver='lbfgs',multi_class='multinomial')\n",
    "    scores_tfidf=cross_val_score(model,X_tfidf,y_train_weibo,cv=10,scoring='accuracy')\n",
    "    score_tfidf=scores_tfidf.mean()\n",
    "    k_tfidf_score_weibo.append(score_tfidf)\n",
    "    \n",
    "    X_tfidf=tfidf.fit_transform(X_train_without_weibo)\n",
    "    model = LogisticRegression(solver='lbfgs',multi_class='multinomial')\n",
    "    scores_tfidf=cross_val_score(model,X_tfidf,y_train_without_weibo,cv=10,scoring='accuracy')\n",
    "    score_tfidf=scores_tfidf.mean()\n",
    "    k_tfidf_score_notweibo.append(score_tfidf)\n",
    "    \n",
    "plt.xlabel('dimension')\n",
    "plt.ylabel('accuracy')\n",
    "plt.plot(k,k_tfidf_score_all,color='blue')\n",
    "plt.plot(k,k_tfidf_score_weibo,color='green')\n",
    "plt.plot(k,k_tfidf_score_notweibo,color='red')\n",
    "plt.legend()\n",
    "plt.show()"
   ]
  },
  {
   "cell_type": "code",
   "execution_count": 270,
   "metadata": {},
   "outputs": [
    {
     "name": "stdout",
     "output_type": "stream",
     "text": [
      "train shape: (14788, 15000)\n",
      "dev shape: (5145, 15000)\n",
      "train_label shape (14788,)\n",
      "\n",
      "weibo train shape: (5581, 7498)\n",
      "weibo dev shape: (1925, 7498)\n",
      "weibo train_label shape (5581,)\n",
      "\n",
      "without weibo train shape: (9207, 11237)\n",
      "without weibo dev shape: (3220, 11237)\n",
      "without weibo train_label shape (9207,)\n"
     ]
    }
   ],
   "source": [
    "def score(y_true,y_pred):\n",
    "    print('acc:',accuracy_score(y_true,y_pred))\n",
    "    print('precision:',precision_score(y_true,y_pred,average='macro'))\n",
    "    print('recall:',recall_score(y_true,y_pred,average='macro'))\n",
    "    print('f1:',f1_score(y_true,y_pred,average='macro'))\n",
    "    \n",
    "# 转换为tfidf特征\n",
    "tfidf=TfidfVectorizer(token_pattern=r\"(?u)\\b\\w+\\b\",max_features=15000,ngram_range=(1,2),min_df=2)\n",
    "\n",
    "X_tfidf_train = tfidf.fit_transform(X_train)\n",
    "X_tfidf_dev = tfidf.transform(X_dev)\n",
    "\n",
    "X_tfidf_train_weibo = tfidf.fit_transform(X_train_weibo)\n",
    "X_tfidf_dev_weibo = tfidf.transform(X_dev_weibo)\n",
    "\n",
    "X_tfidf_train_without_weibo = tfidf.fit_transform(X_train_without_weibo)\n",
    "X_tfidf_dev_without_weibo = tfidf.transform(X_dev_without_weibo)\n",
    "\n",
    "print('train shape:',X_tfidf_train.shape)\n",
    "print('dev shape:',X_tfidf_dev.shape)\n",
    "print('train_label shape',y_train.shape)\n",
    "print()\n",
    "print('weibo train shape:',X_tfidf_train_weibo.shape)\n",
    "print('weibo dev shape:',X_tfidf_dev_weibo.shape)\n",
    "print('weibo train_label shape',y_train_weibo.shape)\n",
    "print()\n",
    "print('without weibo train shape:',X_tfidf_train_without_weibo.shape)\n",
    "print('without weibo dev shape:',X_tfidf_dev_without_weibo.shape)\n",
    "print('without weibo train_label shape',y_train_without_weibo.shape)"
   ]
  },
  {
   "cell_type": "code",
   "execution_count": 271,
   "metadata": {},
   "outputs": [
    {
     "name": "stdout",
     "output_type": "stream",
     "text": [
      "朴素贝叶斯\n",
      "all\n",
      "acc: 0.6777453838678329\n",
      "precision: 0.6459245514692092\n",
      "recall: 0.624549143334559\n",
      "f1: 0.6314319810119442\n",
      "weibo\n",
      "acc: 0.8145454545454546\n",
      "precision: 0.6305149854469482\n",
      "recall: 0.48432771463462004\n",
      "f1: 0.5062422420990882\n",
      "not weibo\n",
      "acc: 0.665527950310559\n",
      "precision: 0.667151103216677\n",
      "recall: 0.6637459570714496\n",
      "f1: 0.6647005114474994\n"
     ]
    }
   ],
   "source": [
    "from sklearn.metrics import f1_score,accuracy_score,precision_score,recall_score\n",
    "from sklearn.naive_bayes import MultinomialNB\n",
    "\n",
    "print('朴素贝叶斯')\n",
    "\n",
    "print('all')\n",
    "model = LogisticRegression(solver='lbfgs',multi_class='multinomial')\n",
    "model.fit(X_tfidf_train,y_train)\n",
    "prediction = model.predict(X_tfidf_dev)\n",
    "score(y_dev,prediction)\n",
    "\n",
    "print('weibo')\n",
    "model = LogisticRegression(solver='lbfgs',multi_class='multinomial')\n",
    "model.fit(X_tfidf_train_weibo,y_train_weibo)\n",
    "prediction = model.predict(X_tfidf_dev_weibo)\n",
    "score(y_dev_weibo,prediction)\n",
    "\n",
    "print('not weibo')\n",
    "model = LogisticRegression(solver='lbfgs',multi_class='multinomial')\n",
    "model.fit(X_tfidf_train_without_weibo,y_train_without_weibo)\n",
    "prediction = model.predict(X_tfidf_dev_without_weibo)\n",
    "score(y_dev_without_weibo,prediction)"
   ]
  },
  {
   "cell_type": "code",
   "execution_count": 260,
   "metadata": {},
   "outputs": [
    {
     "name": "stdout",
     "output_type": "stream",
     "text": [
      "LR with weibo\n",
      "acc: 0.7352769679300292\n",
      "precision: 0.7073715555970086\n",
      "recall: 0.6960898625236092\n",
      "f1: 0.7003211400487884\n"
     ]
    },
    {
     "name": "stderr",
     "output_type": "stream",
     "text": [
      "F:\\Anaconda\\lib\\site-packages\\sklearn\\linear_model\\logistic.py:758: ConvergenceWarning: lbfgs failed to converge. Increase the number of iterations.\n",
      "  \"of iterations.\", ConvergenceWarning)\n"
     ]
    }
   ],
   "source": [
    "from sklearn.linear_model import LogisticRegression\n",
    "model = LogisticRegression(solver='lbfgs',multi_class='auto')\n",
    "model.fit(X_tfidf_train_weibo,y_train_weibo)\n",
    "\n",
    "prediction = model.predict(X_tfidf_dev_weibo)\n",
    "print('LR with weibo')\n",
    "print('acc:',accuracy_score(y_dev,prediction))\n",
    "print('precision:',precision_score(y_dev,prediction,average='macro'))\n",
    "print('recall:',recall_score(y_dev,prediction,average='macro'))\n",
    "print('f1:',f1_score(y_dev,prediction,average='macro'))"
   ]
  },
  {
   "cell_type": "code",
   "execution_count": 261,
   "metadata": {},
   "outputs": [
    {
     "name": "stdout",
     "output_type": "stream",
     "text": [
      "(3335,) (1810,)\n",
      "[0 2 1 ... 0 0 0]\n",
      "LR without weibo\n",
      "acc: 0.7500485908649174\n",
      "precision: 0.7272495039686252\n",
      "recall: 0.7000661762079714\n",
      "f1: 0.7099850034413219\n"
     ]
    },
    {
     "name": "stderr",
     "output_type": "stream",
     "text": [
      "F:\\Anaconda\\lib\\site-packages\\sklearn\\linear_model\\logistic.py:758: ConvergenceWarning: lbfgs failed to converge. Increase the number of iterations.\n",
      "  \"of iterations.\", ConvergenceWarning)\n"
     ]
    }
   ],
   "source": [
    "from sklearn.linear_model import LogisticRegression\n",
    "model = LogisticRegression(solver='lbfgs',multi_class='auto')\n",
    "model.fit(X_tfidf_train_without_weibo,y_train_without_weibo)\n",
    "\n",
    "prediction = model.predict(X_tfidf_dev_without_weibo)\n",
    "print(prediction.shape,y_dev_weibo.shape)\n",
    "#微博的全预测为0\n",
    "prediction = np.append(prediction,[0]*len(y_dev_weibo))\n",
    "assert prediction.shape[0]==3335+1810\n",
    "true = np.append(y_dev_without_weibo,y_dev_weibo)\n",
    "print(prediction)\n",
    "print('LR without weibo')\n",
    "print('acc:',accuracy_score(true,prediction))\n",
    "print('precision:',precision_score(true,prediction,average='macro'))\n",
    "print('recall:',recall_score(true,prediction,average='macro'))\n",
    "print('f1:',f1_score(true,prediction,average='macro'))"
   ]
  },
  {
   "cell_type": "code",
   "execution_count": null,
   "metadata": {},
   "outputs": [],
   "source": [
    "sns.catplot(x=\"Label\", hue=\"Is_weibo\", col=\"survived\",data=titanic, kind=\"count\",height=4, aspect=.7);"
   ]
  },
  {
   "cell_type": "code",
   "execution_count": 224,
   "metadata": {},
   "outputs": [
    {
     "name": "stderr",
     "output_type": "stream",
     "text": [
      "F:\\Anaconda\\lib\\site-packages\\sklearn\\svm\\base.py:196: FutureWarning: The default value of gamma will change from 'auto' to 'scale' in version 0.22 to account better for unscaled features. Set gamma explicitly to 'auto' or 'scale' to avoid this warning.\n",
      "  \"avoid this warning.\", FutureWarning)\n"
     ]
    },
    {
     "name": "stdout",
     "output_type": "stream",
     "text": [
      "SVC\n",
      "acc: 0.49640427599611275\n",
      "precision: 0.16546809199870424\n",
      "recall: 0.3333333333333333\n",
      "f1: 0.22115426245832792\n"
     ]
    },
    {
     "name": "stderr",
     "output_type": "stream",
     "text": [
      "F:\\Anaconda\\lib\\site-packages\\sklearn\\metrics\\classification.py:1143: UndefinedMetricWarning: Precision is ill-defined and being set to 0.0 in labels with no predicted samples.\n",
      "  'precision', 'predicted', average, warn_for)\n",
      "F:\\Anaconda\\lib\\site-packages\\sklearn\\metrics\\classification.py:1143: UndefinedMetricWarning: F-score is ill-defined and being set to 0.0 in labels with no predicted samples.\n",
      "  'precision', 'predicted', average, warn_for)\n"
     ]
    }
   ],
   "source": [
    "from sklearn.svm import SVC\n",
    "model = SVC()\n",
    "model.fit(X_tfidf_train,y_train)\n",
    "\n",
    "prediction = model.predict(X_tfidf_dev)\n",
    "print('SVC')\n",
    "print('acc:',accuracy_score(y_dev,prediction))\n",
    "print('precision:',precision_score(y_dev,prediction,average='macro'))\n",
    "print('recall:',recall_score(y_dev,prediction,average='macro'))\n",
    "print('f1:',f1_score(y_dev,prediction,average='macro'))"
   ]
  },
  {
   "cell_type": "code",
   "execution_count": 225,
   "metadata": {},
   "outputs": [
    {
     "name": "stdout",
     "output_type": "stream",
     "text": [
      "Xgboost\n",
      "acc: 0.6843537414965987\n",
      "precision: 0.6778290663738032\n",
      "recall: 0.6051540484365179\n",
      "f1: 0.61535106655456\n"
     ]
    }
   ],
   "source": [
    "import xgboost as xgb\n",
    "model = xgb.XGBClassifier()\n",
    "model.fit(X_tfidf_train,y_train)\n",
    "\n",
    "prediction = model.predict(X_tfidf_dev)\n",
    "print('Xgboost')\n",
    "print('acc:',accuracy_score(y_dev,prediction))\n",
    "print('precision:',precision_score(y_dev,prediction,average='macro'))\n",
    "print('recall:',recall_score(y_dev,prediction,average='macro'))\n",
    "print('f1:',f1_score(y_dev,prediction,average='macro'))"
   ]
  },
  {
   "cell_type": "code",
   "execution_count": null,
   "metadata": {},
   "outputs": [],
   "source": []
  }
 ],
 "metadata": {
  "kernelspec": {
   "display_name": "Python 3",
   "language": "python",
   "name": "python3"
  },
  "language_info": {
   "codemirror_mode": {
    "name": "ipython",
    "version": 3
   },
   "file_extension": ".py",
   "mimetype": "text/x-python",
   "name": "python",
   "nbconvert_exporter": "python",
   "pygments_lexer": "ipython3",
   "version": "3.6.5"
  }
 },
 "nbformat": 4,
 "nbformat_minor": 2
}
