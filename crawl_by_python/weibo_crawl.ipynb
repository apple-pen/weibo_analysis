{
 "cells": [
  {
   "cell_type": "code",
   "execution_count": 1,
   "metadata": {},
   "outputs": [
    {
     "name": "stderr",
     "output_type": "stream",
     "text": [
      "/home/jasonhaven/anaconda3/lib/python3.6/site-packages/requests/__init__.py:80: RequestsDependencyWarning: urllib3 (1.24.2) or chardet (3.0.4) doesn't match a supported version!\n",
      "  RequestsDependencyWarning)\n"
     ]
    }
   ],
   "source": [
    "import re\n",
    "import time\n",
    "import json\n",
    "import math\n",
    "import loguru\n",
    "import random\n",
    "import requests\n",
    "import selenium.webdriver.support.ui as ui\n",
    "from selenium import webdriver\n",
    "from selenium.webdriver.firefox.options import Options\n",
    "from selenium.webdriver.common.action_chains import ActionChains\n",
    "from argparse import Namespace"
   ]
  },
  {
   "cell_type": "code",
   "execution_count": 2,
   "metadata": {},
   "outputs": [],
   "source": [
    "import pymongo"
   ]
  },
  {
   "cell_type": "code",
   "execution_count": 3,
   "metadata": {},
   "outputs": [],
   "source": [
    "class User(object):\n",
    "    \n",
    "    _zh_to_en={\n",
    "                '昵称':'screen_name',\n",
    "                '性别': 'gender',\n",
    "                '地区': 'location',  \n",
    "                '生日': 'birthday',\n",
    "                '感情状况': 'emotion',\n",
    "                '简介': 'description',\n",
    "                '认证':'validation'\n",
    "             }\n",
    "\n",
    "    def __init__(self,data):\n",
    "        for k,v in data.items():\n",
    "            setattr(self,k,v)\n",
    "\n",
    "    def __str__(self):\n",
    "        dct={}\n",
    "        for  attr in dir(self):\n",
    "            if not attr.startswith('_'):\n",
    "                dct[attr]=getattr(self,attr)\n",
    "        return json.dumps(dct,ensure_ascii=False)"
   ]
  },
  {
   "cell_type": "markdown",
   "metadata": {},
   "source": [
    "### 相关参数"
   ]
  },
  {
   "cell_type": "code",
   "execution_count": 4,
   "metadata": {},
   "outputs": [],
   "source": [
    "args_login=Namespace(\n",
    "    user_name='18392161976@163.com',\n",
    "    password='18392161976',\n",
    ")\n",
    "\n",
    "logger = loguru.logger\n",
    "\n",
    "headers = {\n",
    "    'User-agent' : 'Mozilla/5.0 (X11; Linux x86_64) AppleWebKit/537.36 (KHTML, like Gecko) Chrome/70.0.3538.77 Safari/537.36',\n",
    "    'Host' : 'm.weibo.cn',\n",
    "    'Accept' : 'application/json, text/plain, */*',\n",
    "    'Accept-Language' : 'zh-CN,zh;q=0.8,en-US;q=0.5,en;q=0.3',\n",
    "    'Accept-Encoding' : 'gzip, deflate, br',\n",
    "    'Referer' : 'https://m.weibo.cn',\n",
    "    'Cookie' : '_T_WM=2809dae9dfad0eb937f1e966bb58baad; SCF=AqEMR7DjEq8IoKbjhAVfKBVnwlb_liwr_1DYNDiBOupIQYnwbDkA3-biaFeV6QYiEA3ERIAGA6NUZq8ijcg5qjQ.; MLOGIN=1; SUB=_2A25xvf-jDeRhGeFO71YT8SbEyj6IHXVTQYHrrDV6PUJbkdAKLRjYkW1NQX7CgVC1B56oykRpTufwN26nl_WiFELK; SUHB=09Pt0V0gyhebms; SSOLoginState=1555664883; M_WEIBOCN_PARAMS=luicode%3D20000174',\n",
    "    'Connection' : 'keep-alive',\n",
    "}\n",
    "\n",
    "\n",
    "url_weibocn_profile='https://weibo.cn/{}/info'\n",
    "url_mweibo_profile=\"https://m.weibo.cn/profile/info?uid={}\"\n",
    "url_mweibo=\"https://m.weibo.cn\"\n",
    "url_mweibo_posts=\"https://m.weibo.cn/api/container/getIndex?containerid={}&page={}\"\n",
    "url_mweibo_fans=\"https://m.weibo.cn/api/container/getIndex?containerid=231051_-_fans_-_{}&since_id={}\"\n",
    "url_mweibo_following=\"https://m.weibo.cn/api/container/getIndex?containerid=231051_-_followers_-_{}&page={}\"\n",
    "url_mweibo_comments=\"https://m.weibo.cn/comments/hotflow?id={}&mid={}&max_id={}&max_id_type=0\"\n",
    "url_mweibo_like_users='https://m.weibo.cn/api/statuses/repostTimeline?id={}&page={}'\n",
    "url_mweibo_report_users='https://m.weibo.cn/api/attitudes/show?id={}&page={}'"
   ]
  },
  {
   "cell_type": "markdown",
   "metadata": {},
   "source": [
    "### 登录获取dirver"
   ]
  },
  {
   "cell_type": "code",
   "execution_count": 5,
   "metadata": {},
   "outputs": [],
   "source": [
    "def get_driver():\n",
    "    options = Options()\n",
    "    options.add_argument('-headless')\n",
    "    return webdriver.Chrome(options=options)\n",
    "\n",
    "def login():\n",
    "    '''\n",
    "    启动并登录\n",
    "    '''\n",
    "    url_login=\"https://passport.weibo.cn/signin/login\"\n",
    "    driver=get_driver()\n",
    "    wait=ui.WebDriverWait(driver,10)\n",
    "    driver.get(url_login)\n",
    "    time.sleep(2)#等待跳转\n",
    "    \n",
    "    try:\n",
    "        driver.find_element_by_class_name('txt-shadow')\n",
    "    except:\n",
    "        elem_user=driver.find_element_by_id(\"loginName\")\n",
    "        elem_pwd=driver.find_element_by_id(\"loginPassword\")\n",
    "        elem_user.send_keys(args_login.user_name)\n",
    "        elem_pwd.send_keys(args_login.password)\n",
    "        try:\n",
    "            elem_sub=driver.find_element_by_id(\"loginAction\")\n",
    "            elem_sub.click()\n",
    "            time.sleep(3)#等待验证显示\n",
    "            elem_sub=driver.find_element_by_id(\"embed-captcha\")\n",
    "            elem_sub.click()\n",
    "            time.sleep(3)#等待跳转\n",
    "        except:\n",
    "            logger.info('login success!')\n",
    "            return driver\n",
    "    logger.info('login success!')\n",
    "    return driver"
   ]
  },
  {
   "cell_type": "code",
   "execution_count": 6,
   "metadata": {},
   "outputs": [
    {
     "name": "stderr",
     "output_type": "stream",
     "text": [
      "2019-04-29 19:25:36.608 | INFO     | __main__:login:31 - login success!\n"
     ]
    }
   ],
   "source": [
    "driver = login()"
   ]
  },
  {
   "cell_type": "markdown",
   "metadata": {},
   "source": [
    "### 获取用户的基本信息"
   ]
  },
  {
   "cell_type": "code",
   "execution_count": 7,
   "metadata": {},
   "outputs": [],
   "source": [
    "def download_html(url,retry=3):\n",
    "    try:\n",
    "        proxy=random.choice([{'http':'//'.join(['http:',l.strip()])}for l in open('./ProxyGetter/proxies.txt').readlines()])\n",
    "        resp=requests.get(url = url,headers = headers,proxies=proxy)\n",
    "        if resp.status_code != 200:\n",
    "            logger.error('url open error: {}'.format(url))\n",
    "        return resp.text\n",
    "    except Exception as e:\n",
    "        logger.debug(\"failed and retry: {}\".format(url))\n",
    "        if retry > 1:\n",
    "            time.sleep(1)\n",
    "            retry -= 1\n",
    "            return download_html(url,retry)\n",
    "        \n",
    "def get_user_info_from_mweibo(uid):\n",
    "    text=download_html(url_mweibo_profile.format(uid))\n",
    "    data=json.loads(text)\n",
    "    data=data['data']['user']\n",
    "    infobox={}\n",
    "    infobox['_id']=data['id']\n",
    "    infobox['screen_name']=data['screen_name'].strip()\n",
    "    infobox['statuses_count']=data['statuses_count']\n",
    "    infobox['followers_count']=data['followers_count']\n",
    "    infobox['follow_count']=data['follow_count']\n",
    "    infobox['description']=data['description'].strip()\n",
    "    infobox['gender']='男' if data['gender']=='m' else '女'\n",
    "    \n",
    "    infobox['verified']=data['verified']\n",
    "    infobox['verified_type']=data['description']\n",
    "    infobox['verified_reason']=data['description'].strip()\n",
    "    return infobox\n",
    "\n",
    "def get_user_info_from_weibocn(uid):\n",
    "    driver.get(url_weibocn_profile.format(uid))\n",
    "    time.sleep(2)#等待跳转\n",
    "    text=driver.find_element_by_xpath(\"//div[text()='基本信息']/following-sibling::div[1]\").text\n",
    "    data=dict([re.split(r':|：',s) for s in text.split('\\n') ])\n",
    "    infobox={}\n",
    "    for k,v in data.items():\n",
    "        if k not in User._zh_to_en:\n",
    "            infobox['other']=v\n",
    "        else:\n",
    "            infobox[User._zh_to_en[k]]=v\n",
    "    return infobox\n",
    "\n",
    "def merge_user_info(mweibo_dct,weibocn_dct):\n",
    "    for k,v in weibocn_dct.items():\n",
    "        if k not in mweibo_dct:\n",
    "            mweibo_dct[k]=v\n",
    "    return mweibo_dct\n",
    "\n",
    "def get_user_info(uid):\n",
    "    try:\n",
    "        d1=get_user_info_from_weibocn(uid)\n",
    "        d2=get_user_info_from_mweibo(uid)\n",
    "        d=merge_user_info(d1,d2)\n",
    "        return d\n",
    "    except Exception as e:\n",
    "        logger.debug(e)\n",
    "        return get_user_info_from_mweibo(uid)"
   ]
  },
  {
   "cell_type": "code",
   "execution_count": 8,
   "metadata": {},
   "outputs": [],
   "source": [
    "u=get_user_info(uid='2481058012')"
   ]
  },
  {
   "cell_type": "code",
   "execution_count": 10,
   "metadata": {},
   "outputs": [
    {
     "name": "stderr",
     "output_type": "stream",
     "text": [
      "/home/jasonhaven/anaconda3/lib/python3.6/site-packages/ipykernel_launcher.py:9: DeprecationWarning: update is deprecated. Use replace_one, update_one or update_many instead.\n",
      "  if __name__ == '__main__':\n"
     ]
    },
    {
     "name": "stdout",
     "output_type": "stream",
     "text": [
      "update success id = 7044218812\n",
      "update success id = 2481058012\n",
      "update success id = 1740577714\n",
      "update success id = 1752502537\n"
     ]
    },
    {
     "name": "stderr",
     "output_type": "stream",
     "text": [
      "2019-04-29 19:29:48.780 | DEBUG    | __main__:get_user_info:59 - dictionary update sequence element #6 has length 4; 2 is required\n"
     ]
    },
    {
     "name": "stdout",
     "output_type": "stream",
     "text": [
      "update success id = 2028810631\n",
      "update success id = 1784473157\n"
     ]
    },
    {
     "name": "stderr",
     "output_type": "stream",
     "text": [
      "2019-04-29 19:29:57.868 | DEBUG    | __main__:get_user_info:59 - dictionary update sequence element #6 has length 3; 2 is required\n"
     ]
    },
    {
     "name": "stdout",
     "output_type": "stream",
     "text": [
      "update success id = 1883881851\n",
      "update success id = 2150852464\n"
     ]
    },
    {
     "name": "stderr",
     "output_type": "stream",
     "text": [
      "2019-04-29 19:30:08.002 | DEBUG    | __main__:get_user_info:59 - dictionary update sequence element #5 has length 4; 2 is required\n"
     ]
    },
    {
     "name": "stdout",
     "output_type": "stream",
     "text": [
      "update success id = 1309302077\n",
      "update success id = 1976599387\n",
      "update success id = 5878659096\n"
     ]
    },
    {
     "name": "stderr",
     "output_type": "stream",
     "text": [
      "2019-04-29 19:30:22.737 | DEBUG    | __main__:get_user_info:59 - dictionary update sequence element #6 has length 3; 2 is required\n"
     ]
    },
    {
     "name": "stdout",
     "output_type": "stream",
     "text": [
      "update success id = 5186027114\n",
      "update success id = 2850809427\n",
      "update success id = 3587960280\n",
      "update success id = 5813256522\n"
     ]
    },
    {
     "name": "stderr",
     "output_type": "stream",
     "text": [
      "2019-04-29 19:30:41.958 | DEBUG    | __main__:get_user_info:59 - dictionary update sequence element #6 has length 4; 2 is required\n"
     ]
    },
    {
     "name": "stdout",
     "output_type": "stream",
     "text": [
      "update success id = 1632538541\n"
     ]
    },
    {
     "name": "stderr",
     "output_type": "stream",
     "text": [
      "2019-04-29 19:30:46.664 | DEBUG    | __main__:get_user_info:59 - dictionary update sequence element #8 has length 3; 2 is required\n"
     ]
    },
    {
     "name": "stdout",
     "output_type": "stream",
     "text": [
      "update success id = 3977475932\n"
     ]
    },
    {
     "name": "stderr",
     "output_type": "stream",
     "text": [
      "2019-04-29 19:30:51.147 | DEBUG    | __main__:get_user_info:59 - dictionary update sequence element #7 has length 3; 2 is required\n"
     ]
    },
    {
     "name": "stdout",
     "output_type": "stream",
     "text": [
      "update success id = 2465367492\n"
     ]
    },
    {
     "name": "stderr",
     "output_type": "stream",
     "text": [
      "2019-04-29 19:30:56.189 | DEBUG    | __main__:get_user_info:59 - dictionary update sequence element #6 has length 6; 2 is required\n"
     ]
    },
    {
     "name": "stdout",
     "output_type": "stream",
     "text": [
      "update success id = 1316224750\n",
      "update success id = 6336710565\n",
      "update success id = 6359324790\n",
      "update success id = 5953071485\n"
     ]
    },
    {
     "name": "stderr",
     "output_type": "stream",
     "text": [
      "2019-04-29 19:31:15.473 | DEBUG    | __main__:get_user_info:59 - dictionary update sequence element #6 has length 3; 2 is required\n"
     ]
    },
    {
     "name": "stdout",
     "output_type": "stream",
     "text": [
      "update success id = 6062005686\n",
      "update success id = 2475968785\n"
     ]
    },
    {
     "name": "stderr",
     "output_type": "stream",
     "text": [
      "2019-04-29 19:31:25.207 | DEBUG    | __main__:get_user_info:59 - dictionary update sequence element #7 has length 3; 2 is required\n"
     ]
    },
    {
     "name": "stdout",
     "output_type": "stream",
     "text": [
      "update success id = 1869580850\n"
     ]
    },
    {
     "name": "stderr",
     "output_type": "stream",
     "text": [
      "2019-04-29 19:31:30.723 | DEBUG    | __main__:get_user_info:59 - dictionary update sequence element #6 has length 3; 2 is required\n"
     ]
    },
    {
     "name": "stdout",
     "output_type": "stream",
     "text": [
      "update success id = 2164875510\n"
     ]
    },
    {
     "name": "stderr",
     "output_type": "stream",
     "text": [
      "2019-04-29 19:31:35.590 | DEBUG    | __main__:get_user_info:59 - dictionary update sequence element #6 has length 5; 2 is required\n"
     ]
    },
    {
     "name": "stdout",
     "output_type": "stream",
     "text": [
      "update success id = 5760592303\n",
      "update success id = 3869834805\n",
      "update success id = 2520741503\n"
     ]
    },
    {
     "name": "stderr",
     "output_type": "stream",
     "text": [
      "2019-04-29 19:31:50.165 | DEBUG    | __main__:get_user_info:59 - dictionary update sequence element #6 has length 3; 2 is required\n"
     ]
    },
    {
     "name": "stdout",
     "output_type": "stream",
     "text": [
      "update success id = 3933821035\n"
     ]
    },
    {
     "name": "stderr",
     "output_type": "stream",
     "text": [
      "2019-04-29 19:31:54.943 | DEBUG    | __main__:get_user_info:59 - dictionary update sequence element #6 has length 6; 2 is required\n"
     ]
    },
    {
     "name": "stdout",
     "output_type": "stream",
     "text": [
      "update success id = 6369820151\n"
     ]
    },
    {
     "name": "stderr",
     "output_type": "stream",
     "text": [
      "2019-04-29 19:31:59.514 | DEBUG    | __main__:get_user_info:59 - dictionary update sequence element #6 has length 6; 2 is required\n"
     ]
    },
    {
     "name": "stdout",
     "output_type": "stream",
     "text": [
      "update success id = 2675681163\n",
      "update success id = 3387165334\n"
     ]
    },
    {
     "name": "stderr",
     "output_type": "stream",
     "text": [
      "2019-04-29 19:32:09.392 | DEBUG    | __main__:get_user_info:59 - dictionary update sequence element #6 has length 3; 2 is required\n"
     ]
    },
    {
     "name": "stdout",
     "output_type": "stream",
     "text": [
      "update success id = 1705586121\n",
      "update success id = 5743923782\n"
     ]
    },
    {
     "name": "stderr",
     "output_type": "stream",
     "text": [
      "2019-04-29 19:32:18.983 | DEBUG    | __main__:get_user_info:59 - dictionary update sequence element #6 has length 3; 2 is required\n"
     ]
    },
    {
     "name": "stdout",
     "output_type": "stream",
     "text": [
      "update success id = 2715025067\n",
      "update success id = 2706896955\n",
      "update success id = 1426725707\n"
     ]
    },
    {
     "name": "stderr",
     "output_type": "stream",
     "text": [
      "2019-04-29 19:32:32.978 | DEBUG    | __main__:get_user_info:59 - dictionary update sequence element #6 has length 3; 2 is required\n"
     ]
    },
    {
     "name": "stdout",
     "output_type": "stream",
     "text": [
      "update success id = 1618051664\n"
     ]
    },
    {
     "name": "stderr",
     "output_type": "stream",
     "text": [
      "2019-04-29 19:32:38.011 | DEBUG    | __main__:get_user_info:59 - dictionary update sequence element #6 has length 3; 2 is required\n"
     ]
    },
    {
     "name": "stdout",
     "output_type": "stream",
     "text": [
      "update success id = 5796731205\n",
      "update success id = 6060232099\n"
     ]
    },
    {
     "name": "stderr",
     "output_type": "stream",
     "text": [
      "2019-04-29 19:32:47.994 | DEBUG    | __main__:get_user_info:59 - dictionary update sequence element #6 has length 3; 2 is required\n"
     ]
    },
    {
     "name": "stdout",
     "output_type": "stream",
     "text": [
      "update success id = 1337925752\n"
     ]
    },
    {
     "name": "stderr",
     "output_type": "stream",
     "text": [
      "2019-04-29 19:32:53.503 | DEBUG    | __main__:get_user_info:59 - dictionary update sequence element #5 has length 3; 2 is required\n"
     ]
    },
    {
     "name": "stdout",
     "output_type": "stream",
     "text": [
      "update success id = 6087552304\n"
     ]
    },
    {
     "name": "stderr",
     "output_type": "stream",
     "text": [
      "2019-04-29 19:32:58.289 | DEBUG    | __main__:get_user_info:59 - dictionary update sequence element #5 has length 4; 2 is required\n"
     ]
    },
    {
     "name": "stdout",
     "output_type": "stream",
     "text": [
      "update success id = 1197191492\n",
      "update success id = 1259773564\n"
     ]
    },
    {
     "name": "stderr",
     "output_type": "stream",
     "text": [
      "2019-04-29 19:33:09.088 | DEBUG    | __main__:get_user_info:59 - dictionary update sequence element #6 has length 3; 2 is required\n"
     ]
    },
    {
     "name": "stdout",
     "output_type": "stream",
     "text": [
      "update success id = 1739046981\n",
      "update success id = 1743185457\n",
      "update success id = 1926243773\n",
      "update success id = 5353709229\n"
     ]
    },
    {
     "name": "stderr",
     "output_type": "stream",
     "text": [
      "2019-04-29 19:33:28.806 | DEBUG    | __main__:get_user_info:59 - dictionary update sequence element #6 has length 6; 2 is required\n"
     ]
    },
    {
     "name": "stdout",
     "output_type": "stream",
     "text": [
      "update success id = 1909195377\n"
     ]
    },
    {
     "name": "stderr",
     "output_type": "stream",
     "text": [
      "2019-04-29 19:33:33.765 | DEBUG    | __main__:get_user_info:59 - dictionary update sequence element #6 has length 3; 2 is required\n"
     ]
    },
    {
     "name": "stdout",
     "output_type": "stream",
     "text": [
      "update success id = 2748492450\n"
     ]
    },
    {
     "name": "stderr",
     "output_type": "stream",
     "text": [
      "2019-04-29 19:33:38.887 | DEBUG    | __main__:get_user_info:59 - dictionary update sequence element #6 has length 5; 2 is required\n"
     ]
    },
    {
     "name": "stdout",
     "output_type": "stream",
     "text": [
      "update success id = 3591355593\n"
     ]
    },
    {
     "name": "stderr",
     "output_type": "stream",
     "text": [
      "2019-04-29 19:33:44.713 | DEBUG    | __main__:get_user_info:59 - dictionary update sequence element #6 has length 3; 2 is required\n"
     ]
    },
    {
     "name": "stdout",
     "output_type": "stream",
     "text": [
      "update success id = 1256297812\n",
      "update success id = 1717759773\n",
      "update success id = 6041830341\n",
      "update success id = 1943381273\n"
     ]
    },
    {
     "name": "stderr",
     "output_type": "stream",
     "text": [
      "2019-04-29 19:34:04.897 | DEBUG    | __main__:get_user_info:59 - dictionary update sequence element #3 has length 3; 2 is required\n"
     ]
    },
    {
     "name": "stdout",
     "output_type": "stream",
     "text": [
      "update success id = 2519060723\n",
      "update success id = 2770359791\n",
      "update success id = 6126207171\n"
     ]
    },
    {
     "name": "stderr",
     "output_type": "stream",
     "text": [
      "2019-04-29 19:34:20.039 | DEBUG    | __main__:get_user_info:59 - dictionary update sequence element #7 has length 3; 2 is required\n"
     ]
    },
    {
     "name": "stdout",
     "output_type": "stream",
     "text": [
      "update success id = 1309167357\n",
      "update success id = 1970253207\n",
      "update success id = 1838388131\n"
     ]
    },
    {
     "name": "stderr",
     "output_type": "stream",
     "text": [
      "2019-04-29 19:34:34.425 | DEBUG    | __main__:get_user_info:59 - dictionary update sequence element #6 has length 5; 2 is required\n"
     ]
    },
    {
     "name": "stdout",
     "output_type": "stream",
     "text": [
      "update success id = 1659390800\n",
      "update success id = 5234797239\n",
      "update success id = 1470110647\n",
      "update success id = 1254433995\n"
     ]
    },
    {
     "name": "stderr",
     "output_type": "stream",
     "text": [
      "2019-04-29 19:34:55.098 | DEBUG    | __main__:get_user_info:59 - dictionary update sequence element #6 has length 3; 2 is required\n"
     ]
    },
    {
     "name": "stdout",
     "output_type": "stream",
     "text": [
      "update success id = 1867685751\n",
      "update success id = 2005700673\n",
      "update success id = 1419114151\n"
     ]
    },
    {
     "name": "stderr",
     "output_type": "stream",
     "text": [
      "2019-04-29 19:35:10.422 | DEBUG    | __main__:get_user_info:59 - dictionary update sequence element #5 has length 5; 2 is required\n"
     ]
    },
    {
     "name": "stdout",
     "output_type": "stream",
     "text": [
      "update success id = 3062769307\n"
     ]
    },
    {
     "name": "stderr",
     "output_type": "stream",
     "text": [
      "2019-04-29 19:35:15.378 | DEBUG    | __main__:get_user_info:59 - dictionary update sequence element #5 has length 3; 2 is required\n"
     ]
    },
    {
     "name": "stdout",
     "output_type": "stream",
     "text": [
      "update success id = 2093778914\n"
     ]
    },
    {
     "name": "stderr",
     "output_type": "stream",
     "text": [
      "2019-04-29 19:35:20.068 | DEBUG    | __main__:get_user_info:59 - dictionary update sequence element #6 has length 4; 2 is required\n"
     ]
    },
    {
     "name": "stdout",
     "output_type": "stream",
     "text": [
      "update success id = 1819325063\n",
      "update success id = 5903928380\n",
      "update success id = 1227328177\n",
      "update success id = 5691348370\n"
     ]
    },
    {
     "name": "stderr",
     "output_type": "stream",
     "text": [
      "2019-04-29 19:35:39.508 | DEBUG    | __main__:get_user_info:59 - dictionary update sequence element #5 has length 3; 2 is required\n"
     ]
    },
    {
     "name": "stdout",
     "output_type": "stream",
     "text": [
      "update success id = 1225205711\n"
     ]
    },
    {
     "name": "stderr",
     "output_type": "stream",
     "text": [
      "2019-04-29 19:35:44.590 | DEBUG    | __main__:get_user_info:59 - dictionary update sequence element #7 has length 3; 2 is required\n"
     ]
    },
    {
     "name": "stdout",
     "output_type": "stream",
     "text": [
      "update success id = 3536793902\n",
      "update success id = 1763267845\n",
      "update success id = 1792523155\n"
     ]
    },
    {
     "name": "stderr",
     "output_type": "stream",
     "text": [
      "2019-04-29 19:35:59.119 | DEBUG    | __main__:get_user_info:59 - dictionary update sequence element #6 has length 3; 2 is required\n"
     ]
    },
    {
     "name": "stdout",
     "output_type": "stream",
     "text": [
      "update success id = 1340406064\n",
      "update success id = 1228383497\n"
     ]
    },
    {
     "name": "stderr",
     "output_type": "stream",
     "text": [
      "2019-04-29 19:36:08.956 | DEBUG    | __main__:get_user_info:59 - dictionary update sequence element #1 has length 3; 2 is required\n"
     ]
    },
    {
     "name": "stdout",
     "output_type": "stream",
     "text": [
      "update success id = 1198073405\n"
     ]
    },
    {
     "name": "stderr",
     "output_type": "stream",
     "text": [
      "2019-04-29 19:36:13.688 | DEBUG    | __main__:get_user_info:59 - dictionary update sequence element #5 has length 3; 2 is required\n"
     ]
    },
    {
     "name": "stdout",
     "output_type": "stream",
     "text": [
      "update success id = 2115034114\n",
      "update success id = 5589708812\n"
     ]
    },
    {
     "name": "stderr",
     "output_type": "stream",
     "text": [
      "2019-04-29 19:36:23.271 | DEBUG    | __main__:get_user_info:59 - dictionary update sequence element #6 has length 3; 2 is required\n"
     ]
    },
    {
     "name": "stdout",
     "output_type": "stream",
     "text": [
      "update success id = 1904178193\n",
      "update success id = 1642512402\n",
      "update success id = 3494982177\n",
      "update success id = 3725773862\n"
     ]
    },
    {
     "name": "stderr",
     "output_type": "stream",
     "text": [
      "2019-04-29 19:36:42.696 | DEBUG    | __main__:get_user_info:59 - dictionary update sequence element #6 has length 3; 2 is required\n"
     ]
    },
    {
     "name": "stdout",
     "output_type": "stream",
     "text": [
      "update success id = 1638781994\n",
      "update success id = 3925184557\n",
      "update success id = 3214806072\n",
      "update success id = 2705119801\n",
      "update success id = 1087770692\n"
     ]
    },
    {
     "name": "stderr",
     "output_type": "stream",
     "text": [
      "2019-04-29 19:37:06.425 | DEBUG    | __main__:get_user_info:59 - dictionary update sequence element #5 has length 3; 2 is required\n"
     ]
    },
    {
     "name": "stdout",
     "output_type": "stream",
     "text": [
      "update success id = 1748548681\n",
      "update success id = 6680591963\n",
      "update success id = 5948209766\n",
      "update success id = 6593871464\n",
      "update success id = 2110705772\n"
     ]
    },
    {
     "name": "stderr",
     "output_type": "stream",
     "text": [
      "2019-04-29 19:37:31.026 | DEBUG    | __main__:get_user_info:59 - dictionary update sequence element #6 has length 4; 2 is required\n"
     ]
    },
    {
     "name": "stdout",
     "output_type": "stream",
     "text": [
      "update success id = 5117510254\n"
     ]
    },
    {
     "name": "stderr",
     "output_type": "stream",
     "text": [
      "2019-04-29 19:37:36.443 | DEBUG    | __main__:get_user_info:59 - dictionary update sequence element #5 has length 4; 2 is required\n"
     ]
    },
    {
     "name": "stdout",
     "output_type": "stream",
     "text": [
      "update success id = 5291824241\n",
      "update success id = 6651652733\n"
     ]
    },
    {
     "name": "stderr",
     "output_type": "stream",
     "text": [
      "2019-04-29 19:37:46.570 | DEBUG    | __main__:get_user_info:59 - dictionary update sequence element #5 has length 3; 2 is required\n"
     ]
    },
    {
     "name": "stdout",
     "output_type": "stream",
     "text": [
      "update success id = 1730077315\n",
      "update success id = 6189479561\n",
      "update success id = 6278540948\n"
     ]
    },
    {
     "name": "stderr",
     "output_type": "stream",
     "text": [
      "2019-04-29 19:38:01.337 | DEBUG    | __main__:get_user_info:59 - dictionary update sequence element #6 has length 3; 2 is required\n"
     ]
    },
    {
     "name": "stdout",
     "output_type": "stream",
     "text": [
      "update success id = 1296241304\n",
      "update success id = 2671109275\n"
     ]
    },
    {
     "name": "stderr",
     "output_type": "stream",
     "text": [
      "2019-04-29 19:38:11.058 | DEBUG    | __main__:get_user_info:59 - dictionary update sequence element #6 has length 4; 2 is required\n"
     ]
    },
    {
     "name": "stdout",
     "output_type": "stream",
     "text": [
      "update success id = 1192329374\n",
      "update success id = 2909406375\n"
     ]
    },
    {
     "name": "stderr",
     "output_type": "stream",
     "text": [
      "2019-04-29 19:38:20.736 | DEBUG    | __main__:get_user_info:59 - dictionary update sequence element #6 has length 3; 2 is required\n"
     ]
    },
    {
     "name": "stdout",
     "output_type": "stream",
     "text": [
      "update success id = 6866528424\n",
      "update success id = 1642591402\n",
      "update success id = 2870450862\n",
      "update success id = 2982152367\n",
      "update success id = 1893711543\n",
      "update success id = 1822398137\n",
      "update success id = 5671786192\n"
     ]
    },
    {
     "name": "stderr",
     "output_type": "stream",
     "text": [
      "2019-04-29 19:38:56.039 | DEBUG    | __main__:get_user_info:59 - dictionary update sequence element #5 has length 5; 2 is required\n"
     ]
    },
    {
     "name": "stdout",
     "output_type": "stream",
     "text": [
      "update success id = 1887344341\n"
     ]
    },
    {
     "name": "stderr",
     "output_type": "stream",
     "text": [
      "2019-04-29 19:39:00.633 | DEBUG    | __main__:get_user_info:59 - dictionary update sequence element #5 has length 3; 2 is required\n"
     ]
    },
    {
     "name": "stdout",
     "output_type": "stream",
     "text": [
      "update success id = 2516198102\n"
     ]
    },
    {
     "name": "stderr",
     "output_type": "stream",
     "text": [
      "2019-04-29 19:39:05.648 | DEBUG    | __main__:get_user_info:59 - dictionary update sequence element #6 has length 3; 2 is required\n"
     ]
    },
    {
     "name": "stdout",
     "output_type": "stream",
     "text": [
      "update success id = 3623353053\n",
      "update success id = 1659928803\n"
     ]
    },
    {
     "name": "stderr",
     "output_type": "stream",
     "text": [
      "2019-04-29 19:39:15.509 | DEBUG    | __main__:get_user_info:59 - dictionary update sequence element #7 has length 3; 2 is required\n"
     ]
    },
    {
     "name": "stdout",
     "output_type": "stream",
     "text": [
      "update success id = 1730726637\n"
     ]
    },
    {
     "name": "stderr",
     "output_type": "stream",
     "text": [
      "2019-04-29 19:39:20.280 | DEBUG    | __main__:get_user_info:59 - dictionary update sequence element #6 has length 3; 2 is required\n"
     ]
    },
    {
     "name": "stdout",
     "output_type": "stream",
     "text": [
      "update success id = 5209478895\n"
     ]
    },
    {
     "name": "stderr",
     "output_type": "stream",
     "text": [
      "2019-04-29 19:39:25.286 | DEBUG    | __main__:get_user_info:59 - dictionary update sequence element #6 has length 3; 2 is required\n"
     ]
    },
    {
     "name": "stdout",
     "output_type": "stream",
     "text": [
      "update success id = 1768198384\n",
      "update success id = 1830483711\n",
      "update success id = 5142840067\n"
     ]
    },
    {
     "name": "stderr",
     "output_type": "stream",
     "text": [
      "2019-04-29 19:39:40.164 | DEBUG    | __main__:get_user_info:59 - dictionary update sequence element #7 has length 3; 2 is required\n"
     ]
    },
    {
     "name": "stdout",
     "output_type": "stream",
     "text": [
      "update success id = 3197269764\n"
     ]
    },
    {
     "name": "stderr",
     "output_type": "stream",
     "text": [
      "2019-04-29 19:39:44.939 | DEBUG    | __main__:get_user_info:59 - dictionary update sequence element #6 has length 3; 2 is required\n"
     ]
    },
    {
     "name": "stdout",
     "output_type": "stream",
     "text": [
      "update success id = 2687827715\n",
      "update success id = 1887961351\n",
      "update success id = 3032210184\n",
      "update success id = 3662247177\n",
      "update success id = 2479684881\n"
     ]
    },
    {
     "name": "stderr",
     "output_type": "stream",
     "text": [
      "2019-04-29 19:40:09.295 | DEBUG    | __main__:get_user_info:59 - dictionary update sequence element #6 has length 3; 2 is required\n"
     ]
    },
    {
     "name": "stdout",
     "output_type": "stream",
     "text": [
      "update success id = 5042958097\n",
      "update success id = 1926909715\n",
      "update success id = 6896373524\n"
     ]
    },
    {
     "name": "stderr",
     "output_type": "stream",
     "text": [
      "2019-04-29 19:40:24.215 | DEBUG    | __main__:get_user_info:59 - dictionary update sequence element #5 has length 4; 2 is required\n"
     ]
    },
    {
     "name": "stdout",
     "output_type": "stream",
     "text": [
      "update success id = 1815418641\n",
      "update success id = 2392261910\n",
      "update success id = 1220926753\n"
     ]
    },
    {
     "name": "stderr",
     "output_type": "stream",
     "text": [
      "2019-04-29 19:40:38.688 | DEBUG    | __main__:get_user_info:59 - dictionary update sequence element #6 has length 5; 2 is required\n"
     ]
    },
    {
     "name": "stdout",
     "output_type": "stream",
     "text": [
      "update success id = 6004281123\n",
      "update success id = 5601456932\n",
      "update success id = 5180044582\n"
     ]
    },
    {
     "name": "stderr",
     "output_type": "stream",
     "text": [
      "2019-04-29 19:40:53.170 | DEBUG    | __main__:get_user_info:59 - dictionary update sequence element #6 has length 3; 2 is required\n"
     ]
    },
    {
     "name": "stdout",
     "output_type": "stream",
     "text": [
      "update success id = 2714280233\n",
      "update success id = 2799770923\n",
      "update success id = 1289997621\n",
      "update success id = 5575133495\n",
      "update success id = 2766575417\n",
      "update success id = 6190532921\n"
     ]
    },
    {
     "name": "stderr",
     "output_type": "stream",
     "text": [
      "2019-04-29 19:41:23.661 | DEBUG    | __main__:get_user_info:59 - dictionary update sequence element #6 has length 3; 2 is required\n"
     ]
    },
    {
     "name": "stdout",
     "output_type": "stream",
     "text": [
      "update success id = 2609400635\n",
      "update success id = 6078801724\n",
      "update success id = 1642904381\n",
      "update success id = 5710151998\n",
      "update success id = 2803301701\n",
      "update success id = 1624923463\n"
     ]
    },
    {
     "name": "stderr",
     "output_type": "stream",
     "text": [
      "2019-04-29 19:41:52.388 | DEBUG    | __main__:get_user_info:59 - dictionary update sequence element #6 has length 3; 2 is required\n"
     ]
    },
    {
     "name": "stdout",
     "output_type": "stream",
     "text": [
      "update success id = 2812335943\n",
      "update success id = 1804549454\n",
      "update success id = 7036200791\n",
      "update success id = 2478838621\n",
      "update success id = 6270561648\n",
      "update success id = 1195242865\n",
      "update success id = 1642634100\n",
      "update success id = 5324927361\n",
      "update success id = 1887790981\n",
      "update success id = 3212642182\n",
      "update success id = 1564245382\n"
     ]
    },
    {
     "name": "stderr",
     "output_type": "stream",
     "text": [
      "2019-04-29 19:42:44.175 | DEBUG    | __main__:get_user_info:59 - dictionary update sequence element #8 has length 3; 2 is required\n"
     ]
    },
    {
     "name": "stdout",
     "output_type": "stream",
     "text": [
      "update success id = 2214257545\n",
      "update success id = 6457307019\n",
      "update success id = 6526308241\n",
      "update success id = 1406387602\n",
      "update success id = 5720474518\n"
     ]
    },
    {
     "name": "stderr",
     "output_type": "stream",
     "text": [
      "2019-04-29 19:43:08.999 | DEBUG    | __main__:get_user_info:59 - dictionary update sequence element #6 has length 3; 2 is required\n"
     ]
    },
    {
     "name": "stdout",
     "output_type": "stream",
     "text": [
      "update success id = 1750070171\n"
     ]
    },
    {
     "name": "stderr",
     "output_type": "stream",
     "text": [
      "2019-04-29 19:43:13.474 | DEBUG    | __main__:get_user_info:59 - dictionary update sequence element #6 has length 5; 2 is required\n"
     ]
    },
    {
     "name": "stdout",
     "output_type": "stream",
     "text": [
      "update success id = 1574684061\n",
      "update success id = 1526202781\n"
     ]
    },
    {
     "name": "stderr",
     "output_type": "stream",
     "text": [
      "2019-04-29 19:43:22.842 | DEBUG    | __main__:get_user_info:59 - dictionary update sequence element #8 has length 4; 2 is required\n"
     ]
    },
    {
     "name": "stdout",
     "output_type": "stream",
     "text": [
      "update success id = 2142058927\n"
     ]
    },
    {
     "name": "stderr",
     "output_type": "stream",
     "text": [
      "2019-04-29 19:43:27.571 | DEBUG    | __main__:get_user_info:59 - dictionary update sequence element #7 has length 4; 2 is required\n"
     ]
    },
    {
     "name": "stdout",
     "output_type": "stream",
     "text": [
      "update success id = 1255795640\n",
      "update success id = 5338420153\n",
      "update success id = 5337346496\n"
     ]
    },
    {
     "name": "stderr",
     "output_type": "stream",
     "text": [
      "2019-04-29 19:43:43.299 | DEBUG    | __main__:get_user_info:59 - dictionary update sequence element #6 has length 3; 2 is required\n"
     ]
    },
    {
     "name": "stdout",
     "output_type": "stream",
     "text": [
      "update success id = 1241148864\n",
      "update success id = 5375583682\n",
      "update success id = 5471534537\n",
      "update success id = 1549115867\n",
      "update success id = 5044281310\n",
      "update success id = 1223178222\n",
      "update success id = 1878335471\n"
     ]
    },
    {
     "name": "stderr",
     "output_type": "stream",
     "text": [
      "2019-04-29 19:44:16.113 | DEBUG    | __main__:get_user_info:59 - dictionary update sequence element #6 has length 3; 2 is required\n"
     ]
    },
    {
     "name": "stdout",
     "output_type": "stream",
     "text": [
      "update success id = 1246850033\n"
     ]
    },
    {
     "name": "stderr",
     "output_type": "stream",
     "text": [
      "2019-04-29 19:44:20.576 | DEBUG    | __main__:get_user_info:59 - dictionary update sequence element #6 has length 3; 2 is required\n"
     ]
    },
    {
     "name": "stdout",
     "output_type": "stream",
     "text": [
      "update success id = 5255814135\n"
     ]
    },
    {
     "name": "stderr",
     "output_type": "stream",
     "text": [
      "2019-04-29 19:44:25.040 | DEBUG    | __main__:get_user_info:59 - dictionary update sequence element #6 has length 3; 2 is required\n"
     ]
    },
    {
     "name": "stdout",
     "output_type": "stream",
     "text": [
      "update success id = 1776448504\n",
      "update success id = 5909342713\n"
     ]
    }
   ],
   "source": [
    "import pymongo\n",
    "\n",
    "client = pymongo.MongoClient(\"mongodb://localhost:27017/\")\n",
    "weibo_db = client[\"weibo\"]\n",
    "user_table = weibo_db['user']\n",
    "\n",
    "for t in user_table.find():\n",
    "    u = get_user_info(uid=t['_id'])\n",
    "    user_table.update({'_id':t['_id']},u)\n",
    "    print('update success id = {}'.format(u['_id']))\n",
    "    time.sleep(2)"
   ]
  },
  {
   "cell_type": "markdown",
   "metadata": {},
   "source": [
    "### 获取用户的关注列表,粉丝列表"
   ]
  },
  {
   "cell_type": "code",
   "execution_count": 45,
   "metadata": {},
   "outputs": [],
   "source": [
    "\n",
    "def parse_url_friends(url):\n",
    "\tresult = []\n",
    "\ttext = download_html(url)\n",
    "\tdct = json.loads(text)\n",
    "\tfor card in dct['data']['cards']:\n",
    "\t\tfor group in card['card_group']:\n",
    "\t\t\tinfobox = {}\n",
    "\t\t\tif 'desc1' in group:\n",
    "\t\t\t\tinfobox['desc1'] = group['desc1']\n",
    "\t\t\tif 'desc2' in group:\n",
    "\t\t\t\tinfobox['desc2'] = group['desc2']\n",
    "\t\t\tdata = group['user']\n",
    "\t\t\tinfobox['_id'] = data['id']\n",
    "\t\t\tinfobox['screen_name'] = data['screen_name'].strip()\n",
    "\t\t\ttry:\n",
    "\t\t\t\tinfobox['statuses_count'] = data['statuses_count']\n",
    "\t\t\t\tinfobox['followers_count'] = data['followers_count']\n",
    "\t\t\t\tinfobox['follow_count'] = data['follow_count']\n",
    "\t\t\t\tinfobox['description'] = data['description'].strip()\n",
    "\t\t\t\tinfobox['gender'] = '男' if data['gender'] == 'm' else '女'\n",
    "\t\t\t\tinfobox['verified'] = data['verified']\n",
    "\t\t\t\tinfobox['verified_type'] = data['description']\n",
    "\t\t\t\tinfobox['verified_reason'] = data['description'].strip()\n",
    "\t\t\texcept:\n",
    "\t\t\t\tlogger.error(card['user'])\n",
    "\t\t\tresult.append(infobox)\n",
    "\treturn result\n",
    "\n",
    "\n",
    "def parse_first_page(url, flag):\n",
    "\t'''\n",
    "\tflag: '全部关注','全部粉丝'\n",
    "\t'''\n",
    "\tresult = []\n",
    "\ttext = download_html(url)\n",
    "\tdct = json.loads(text)\n",
    "\tfor card in dct['data']['cards']:\n",
    "\t\tif 'title' in card and card['title'].endswith(flag):\n",
    "\t\t\tfor group in card['card_group']:\n",
    "\t\t\t\tinfobox = {}\n",
    "\t\t\t\tif 'desc1' in group:\n",
    "\t\t\t\t\tinfobox['desc1'] = group['desc1']\n",
    "\t\t\t\tif 'desc2' in group:\n",
    "\t\t\t\t\tinfobox['desc2'] = group['desc2']\n",
    "\t\t\t\tdata = group['user']\n",
    "\t\t\t\tinfobox['_id'] = data['id']\n",
    "\t\t\t\tinfobox['screen_name'] = data['screen_name'].strip()\n",
    "\t\t\t\ttry:\n",
    "\t\t\t\t\tinfobox['statuses_count'] = data['statuses_count']\n",
    "\t\t\t\t\tinfobox['followers_count'] = data['followers_count']\n",
    "\t\t\t\t\tinfobox['follow_count'] = data['follow_count']\n",
    "\t\t\t\t\tinfobox['description'] = data['description'].strip()\n",
    "\t\t\t\t\tinfobox['gender'] = '男' if data['gender'] == 'm' else '女'\n",
    "\t\t\t\t\tinfobox['verified'] = data['verified']\n",
    "\t\t\t\t\tinfobox['verified_type'] = data['description']\n",
    "\t\t\t\t\tinfobox['verified_reason'] = data['description'].strip()\n",
    "\t\t\t\texcept:\n",
    "\t\t\t\t\tlogger.error(card['user'])\n",
    "\t\t\t\tresult.append(infobox)\n",
    "\treturn result\n",
    "#关注列表\n",
    "def get_all_followings(uid, follow_count=0):\n",
    "\tresult = []\n",
    "\ttext = download_html(url_mweibo_profile.format(uid))\n",
    "\tdct = json.loads(text)\n",
    "\tpage_num = math.ceil(follow_count / 20)\n",
    "\tfor i in range(page_num):\n",
    "\t\turl_following = url_mweibo_following.format(uid, i + 1)\n",
    "\t\tlogger.info(url_following)\n",
    "\n",
    "\t\tif i == 0:\n",
    "\t\t\tfollowings = parse_first_page(url_following, '全部关注')\n",
    "\t\telse:\n",
    "\t\t\tfollowings = parse_url_friends(url_following)\n",
    "\t\tprint(len(followings))\n",
    "\t\tresult.extend(followings)\n",
    "\treturn result\n",
    "\n",
    "\n",
    "# 粉丝列表\n",
    "def get_all_fans(uid, follow_count=0):\n",
    "\tresult = []\n",
    "\tpage_num = math.ceil(follow_count / 20)\n",
    "\tfor i in range(page_num):\n",
    "\t\ttime.sleep(random.random() * 10)\n",
    "\t\turl_follower = url_mweibo_fans.format(uid, i + 1)\n",
    "\t\tlogger.info(url_follower)\n",
    "\n",
    "\t\tif i == 0:\n",
    "\t\t\tfollowings = parse_first_page(url_follower, '全部粉丝')\n",
    "\t\telse:\n",
    "\t\t\tfollowings = parse_url_friends(url_follower)\n",
    "\t\tprint(len(followings))\n",
    "\t\tresult.extend(followings)\n",
    "\treturn result"
   ]
  },
  {
   "cell_type": "code",
   "execution_count": 41,
   "metadata": {},
   "outputs": [],
   "source": [
    "# rst = get_all_followings('1887344341',50)"
   ]
  },
  {
   "cell_type": "code",
   "execution_count": null,
   "metadata": {},
   "outputs": [],
   "source": [
    "get_all_fans('1642591402',100)"
   ]
  },
  {
   "cell_type": "markdown",
   "metadata": {},
   "source": [
    "### 获取用户的全部微博"
   ]
  },
  {
   "cell_type": "code",
   "execution_count": 48,
   "metadata": {},
   "outputs": [],
   "source": [
    "def get_user_posts(uid,statuses_count=0):\n",
    "    result=[]\n",
    "    text=download_html(url_mweibo_profile.format(uid))\n",
    "    dct=json.loads(text)\n",
    "    page_num=math.ceil(statuses_count/10)\n",
    "    for i in range(page_num):\n",
    "        url_posts=url_mweibo_posts.format(dct['data']['more'][3:],i+1)\n",
    "        logger.info(url_posts)\n",
    "        posts=parse_url_posts(url_posts)\n",
    "        print(len(posts))\n",
    "        result.extend(posts)\n",
    "    return result\n",
    "\n",
    "def parse_url_posts(url_posts):\n",
    "    result=[]\n",
    "    text=download_html(url_posts)\n",
    "    data=json.loads(text)\n",
    "    for card in data['data']['cards'][1:]:\n",
    "        dct={}\n",
    "        if 'mblog' not in card:\n",
    "            logger.error('no \"mblog\" in card! {}'.format(url_posts))\n",
    "            break\n",
    "        dct['_id']=int(card['mblog']['id'])\n",
    "        dct['created_at']=card['mblog']['created_at']\n",
    "        dct['text']=card['mblog']['text']\n",
    "        dct['source']=card['mblog']['source']\n",
    "        dct['reposts_count']=card['mblog']['reposts_count']\n",
    "        dct['comments_count']=card['mblog']['comments_count']\n",
    "        dct['attitudes_count']=card['mblog']['attitudes_count']\n",
    "        dct['isLongText']=card['mblog']['isLongText']\n",
    "        \n",
    "        if 'page_info' in card['mblog']: \n",
    "            dct['page_info']=card['mblog']['page_info']\n",
    "        result.append(dct)\n",
    "    return result"
   ]
  },
  {
   "cell_type": "code",
   "execution_count": null,
   "metadata": {},
   "outputs": [],
   "source": [
    "posts = get_user_posts('1642591402',20) "
   ]
  },
  {
   "cell_type": "markdown",
   "metadata": {},
   "source": [
    "### 获取微博的点赞列表和转发列表"
   ]
  },
  {
   "cell_type": "code",
   "execution_count": 6,
   "metadata": {},
   "outputs": [],
   "source": [
    "def get_weibo_likes(pid,attitudes_count=50):\n",
    "    result=[]\n",
    "    page_num=math.ceil(attitudes_count/50)\n",
    "    for i in range(page_num):\n",
    "        url=url_mweibo_like_users.format(pid,i+1)\n",
    "        logger.info(url)\n",
    "        followings=parse_url_likes(url)\n",
    "        result.extend(followings)\n",
    "    return result\n",
    "\n",
    "def get_weibo_reports(pid,reposts_count=10):\n",
    "    result=[]\n",
    "    page_num=math.ceil(reposts_count/50)\n",
    "    for i in range(page_num):\n",
    "        url=url_mweibo_report_users.format(pid,i+1)\n",
    "        logger.info(url)\n",
    "        followings=parse_url_reports(url)\n",
    "        result.extend(followings)\n",
    "    return result\n",
    "\n",
    "def parse_url_likes(url):\n",
    "    result=[]\n",
    "    text=download_html(url)\n",
    "    data=json.loads(text)\n",
    "    for card in data['data']['data']:\n",
    "        infobox={}\n",
    "        infobox['id']=card['user']['id']\n",
    "        infobox['screen_name']=card['user']['screen_name'].strip()\n",
    "        try:\n",
    "            infobox['statuses_count']=card['user']['statuses_count']\n",
    "            infobox['followers_count']=card['user']['followers_count']\n",
    "            infobox['follow_count']=card['user']['follow_count']\n",
    "            infobox['description']=card['user']['description'].strip()\n",
    "            infobox['gender']='男' if card['user']['gender']=='m' else '女'\n",
    "        except:\n",
    "            logger.error(card['user'])\n",
    "        result.append(infobox)\n",
    "    return result\n",
    "\n",
    "def parse_url_reports(url):\n",
    "    result=[]\n",
    "    text=download_html(url)\n",
    "    data=json.loads(text)\n",
    "    for card in data['data']['data']:\n",
    "        infobox={}\n",
    "        infobox['_id']=int(card['user']['id'])\n",
    "        infobox['screen_name']=card['user']['screen_name'].strip()\n",
    "        try:\n",
    "            infobox['statuses_count']=card['user']['statuses_count']\n",
    "            infobox['followers_count']=card['user']['followers_count']\n",
    "            infobox['follow_count']=card['user']['follow_count']\n",
    "            infobox['description']=card['user']['description'].strip()\n",
    "            infobox['gender']='男' if card['user']['gender']=='m' else '女'\n",
    "            infobox['verified']=card['user']['verified']\n",
    "            infobox['verified_type']=card['user']['description']\n",
    "            infobox['verified_reason']=card['user']['description'].strip()\n",
    "        except:\n",
    "            logger.error(card['user'])\n",
    "        result.append(infobox)\n",
    "    return result"
   ]
  },
  {
   "cell_type": "code",
   "execution_count": 67,
   "metadata": {},
   "outputs": [],
   "source": [
    "# get_weibo_likes(4363904852823605)"
   ]
  },
  {
   "cell_type": "code",
   "execution_count": null,
   "metadata": {},
   "outputs": [],
   "source": [
    "get_weibo_reports(4363904852823605)"
   ]
  },
  {
   "cell_type": "code",
   "execution_count": null,
   "metadata": {},
   "outputs": [],
   "source": []
  },
  {
   "cell_type": "markdown",
   "metadata": {},
   "source": [
    "### 获取微博的全部评论"
   ]
  },
  {
   "cell_type": "code",
   "execution_count": 22,
   "metadata": {},
   "outputs": [],
   "source": [
    "def get_all_comments(pid,max_num=10):\n",
    "    result=[]\n",
    "    url=\"https://m.weibo.cn/comments/hotflow?id={}&mid={}&max_id_type=0\".format(pid,pid)\n",
    "    logger.info(url)\n",
    "    text=download_html(url)\n",
    "    dct=json.loads(text)\n",
    "    total_num=dct['data']['total_number']\n",
    "    logger.info('total comments:{}'.format(total_num))\n",
    "    error_count=5\n",
    "    while total_num>0 and len(result)<max_num and error_count>0:\n",
    "        logger.info(url)\n",
    "        text=download_html(url)\n",
    "        dct=json.loads(text)\n",
    "        comments=parse_comments(pid,dct)\n",
    "        if comments == []:\n",
    "            error_count -=1\n",
    "            logger.error('comments == []')\n",
    "            continue\n",
    "        error_count=10\n",
    "        result.extend(comments)\n",
    "        max_id=dct['data']['max_id']\n",
    "        url=url_mweibo_comments.format(pid,pid,max_id)\n",
    "    return result\n",
    "\n",
    "def parse_comments(pid, data):\n",
    "    result = []\n",
    "    if 'data' not in data or 'data' not in data['data']:\n",
    "        logger.error('key not exists!')\n",
    "        return result\n",
    "    for comment in data['data']['data']:\n",
    "        dct={}\n",
    "        dct['pid']=pid\n",
    "        dct['_id']=comment['id']\n",
    "        dct['created_at']=comment['created_at']\n",
    "        dct['text']=comment['text']\n",
    "        dct['uid']=comment['user']['id']\n",
    "        dct['like_count']=comment['like_count']\n",
    "        dct['comments']=[]\n",
    "        try:\n",
    "            if isinstance(comment['comments'], list):\n",
    "                dct['comments'] = parse_comments_of_comment(comment['comments'])\n",
    "        except Exception as e:\n",
    "            logger.error('parse comment failed!')\n",
    "            print(e)\n",
    "        result.append(dct)\n",
    "    return result\n",
    "\n",
    "def parse_comments_of_comment(comments:list):\n",
    "    result=[]\n",
    "    for card in comments:\n",
    "        dct={}\n",
    "        dct['created_at']=card['created_at']\n",
    "        dct['text']=card['text']\n",
    "        dct['uid']=card['user']['id']\n",
    "        #递归评论\n",
    "        #if card['comments']!=False:\n",
    "        #    dct['comments']=parse_comments_of_comment(card['comments'])\n",
    "        result.append(dct)\n",
    "    return result"
   ]
  },
  {
   "cell_type": "code",
   "execution_count": 23,
   "metadata": {},
   "outputs": [
    {
     "name": "stderr",
     "output_type": "stream",
     "text": [
      "2019-04-26 12:18:19.864 | INFO     | __main__:get_all_comments:4 - https://m.weibo.cn/comments/hotflow?id=4365293364446663&mid=4365293364446663&max_id_type=0\n",
      "2019-04-26 12:18:20.073 | INFO     | __main__:get_all_comments:8 - total comments:17\n",
      "2019-04-26 12:18:20.074 | INFO     | __main__:get_all_comments:11 - https://m.weibo.cn/comments/hotflow?id=4365293364446663&mid=4365293364446663&max_id_type=0\n"
     ]
    },
    {
     "data": {
      "text/plain": [
       "[{'pid': 4365293364446663,\n",
       "  '_id': '4365295471152492',\n",
       "  'created_at': 'Fri Apr 26 11:56:45 +0800 2019',\n",
       "  'text': '没文化的想问一句，查重为什么要收费啊……这点太特么的操蛋了',\n",
       "  'uid': 1835796702,\n",
       "  'like_count': 2,\n",
       "  'comments': [{'created_at': 'Fri Apr 26 12:04:44 +0800 2019',\n",
       "    'text': '查重不贵的，而且抄没抄自己心里还没数吗<span class=\"url-icon\"><img alt=[允悲] src=\"//h5.sinaimg.cn/m/emoticon/icon/default/d_yunbei-9aa3c436a4.png\" style=\"width:1em; height:1em;\" /></span>',\n",
       "    'uid': 5925269664},\n",
       "   {'created_at': 'Fri Apr 26 12:09:25 +0800 2019',\n",
       "    'text': \"回复<a href='/n/iClaude'>@iClaude</a>:哈哈哈～～后面那句直接说中重点～～我主要是觉得，应该来讲是个工具。如果是在校学生，还是应该要免费使用\",\n",
       "    'uid': 1835796702}]},\n",
       " {'pid': 4365293364446663,\n",
       "  '_id': '4365295730758190',\n",
       "  'created_at': 'Fri Apr 26 11:57:47 +0800 2019',\n",
       "  'text': '虽然查重率降低是很烦，但是学术要求严格难道不是好事吗？所以不能混日子了才这么愤怒？',\n",
       "  'uid': 6616845159,\n",
       "  'like_count': 2,\n",
       "  'comments': [{'created_at': 'Fri Apr 26 12:05:02 +0800 2019',\n",
       "    'text': '看原博评论，应该是从标准到手续都更麻烦了。查重要求的重复率也调低了，说实话，很多时候知网查重算法让人很没办法的，有些话引用了也会标出来，如果引用了一些数据报告，或者领导讲话，不管你怎么改，都会算成重复率。比如“截至2018年12月底”，这句话，在知网里一律算重复了，但是改了也没有',\n",
       "    'uid': 2618864053}]},\n",
       " {'pid': 4365293364446663,\n",
       "  '_id': '4365293972981900',\n",
       "  'created_at': 'Fri Apr 26 11:50:49 +0800 2019',\n",
       "  'text': '这算网络暴力吗',\n",
       "  'uid': 1255880631,\n",
       "  'like_count': 0,\n",
       "  'comments': [{'created_at': 'Fri Apr 26 11:58:01 +0800 2019',\n",
       "    'text': '我觉得是算的。虽然我很能理解这些学生。但不能因为他们“站在正义的一方”，就认为他们的行为是对的。',\n",
       "    'uid': 5860540732}]},\n",
       " {'pid': 4365293364446663,\n",
       "  '_id': '4365295931673641',\n",
       "  'created_at': 'Fri Apr 26 11:58:36 +0800 2019',\n",
       "  'text': '不许混日子了所以怒了？',\n",
       "  'uid': 6903172688,\n",
       "  'like_count': 0,\n",
       "  'comments': []},\n",
       " {'pid': 4365293364446663,\n",
       "  '_id': '4365295071669729',\n",
       "  'created_at': 'Fri Apr 26 11:55:12 +0800 2019',\n",
       "  'text': '查重提前了，我还没有写完，我真的好累。之前还不知道为什么，现在等我吃完饭我去激情转发骂街',\n",
       "  'uid': 3167389165,\n",
       "  'like_count': 1,\n",
       "  'comments': []},\n",
       " {'pid': 4365293364446663,\n",
       "  '_id': '4365296590416913',\n",
       "  'created_at': 'Fri Apr 26 12:01:12 +0800 2019',\n",
       "  'text': '算不算搬起石头砸了自己的脚。。。',\n",
       "  'uid': 5904090564,\n",
       "  'like_count': 0,\n",
       "  'comments': []},\n",
       " {'pid': 4365293364446663,\n",
       "  '_id': '4365297466966832',\n",
       "  'created_at': 'Fri Apr 26 12:04:42 +0800 2019',\n",
       "  'text': '能理解大家的心情，但这种心态真的不可取。毕业严格点没有坏处。如果你研究生期间真的辛苦做过工作，毕业论文只是水到渠成的事情。偷工减料投机取巧的人也拿到了学位，才是最大的不公平。',\n",
       "  'uid': 1865323942,\n",
       "  'like_count': 0,\n",
       "  'comments': []},\n",
       " {'pid': 4365293364446663,\n",
       "  '_id': '4365295743368566',\n",
       "  'created_at': 'Fri Apr 26 11:57:51 +0800 2019',\n",
       "  'text': '现在不挺好……',\n",
       "  'uid': 3616624065,\n",
       "  'like_count': 0,\n",
       "  'comments': []},\n",
       " {'pid': 4365293364446663,\n",
       "  '_id': '4365298029685137',\n",
       "  'created_at': 'Fri Apr 26 12:06:56 +0800 2019',\n",
       "  'text': '<span class=\"url-icon\"><img alt=[允悲] src=\"//h5.sinaimg.cn/m/emoticon/icon/default/d_yunbei-9aa3c436a4.png\" style=\"width:1em; height:1em;\" /></span>我还好，一开始觉得自己术语又臭又长，怕重复率高，结果知网一查百分之二不到，只有几句综述性的句子重复了，顿时不打算降重了',\n",
       "  'uid': 5727201356,\n",
       "  'like_count': 0,\n",
       "  'comments': []},\n",
       " {'pid': 4365293364446663,\n",
       "  '_id': '4365296112130088',\n",
       "  'created_at': 'Fri Apr 26 11:59:19 +0800 2019',\n",
       "  'text': '做人不能宽以待己，严于律人。',\n",
       "  'uid': 6317583633,\n",
       "  'like_count': 0,\n",
       "  'comments': []},\n",
       " {'pid': 4365293364446663,\n",
       "  '_id': '4365295348814123',\n",
       "  'created_at': 'Fri Apr 26 11:56:17 +0800 2019',\n",
       "  'text': '不是要追求公平么！别双标呀！',\n",
       "  'uid': 6317583633,\n",
       "  'like_count': 1,\n",
       "  'comments': []},\n",
       " {'pid': 4365293364446663,\n",
       "  '_id': '4365295172564684',\n",
       "  'created_at': 'Fri Apr 26 11:55:35 +0800 2019',\n",
       "  'text': '所以这些都是研究生吗？这样表达愤怒的方式？',\n",
       "  'uid': 6595489768,\n",
       "  'like_count': 0,\n",
       "  'comments': []}]"
      ]
     },
     "execution_count": 23,
     "metadata": {},
     "output_type": "execute_result"
    }
   ],
   "source": [
    "get_all_comments(pid=4365293364446663,max_num=10)"
   ]
  },
  {
   "cell_type": "code",
   "execution_count": 63,
   "metadata": {},
   "outputs": [
    {
     "data": {
      "text/plain": [
       "{'pid': 4363242803158517,\n",
       " '_id': '4363243281804679',\n",
       " 'created_at': 'Sat Apr 20 20:02:06 +0800 2019',\n",
       " 'text': '<a href=\\'/n/新浪娱乐\\'>@新浪娱乐</a> 李易峰的腿好长啊<span class=\"url-icon\"><img alt=[跪了] src=\"//h5.sinaimg.cn/m/emoticon/icon/default/d_guile-7b3e474f7f.png\" style=\"width:1em; height:1em;\" /></span><span class=\"url-icon\"><img alt=[跪了] src=\"//h5.sinaimg.cn/m/emoticon/icon/default/d_guile-7b3e474f7f.png\" style=\"width:1em; height:1em;\" /></span>，美貌帅气，身材也超级好，气质也非常好，能打包带走藏起来一个人看吗<span class=\"url-icon\"><img alt=[跪了] src=\"//h5.sinaimg.cn/m/emoticon/icon/default/d_guile-7b3e474f7f.png\" style=\"width:1em; height:1em;\" /></span><span class=\"url-icon\"><img alt=[跪了] src=\"//h5.sinaimg.cn/m/emoticon/icon/default/d_guile-7b3e474f7f.png\" style=\"width:1em; height:1em;\" /></span><span class=\"url-icon\"><img alt=[跪了] src=\"//h5.sinaimg.cn/m/emoticon/icon/default/d_guile-7b3e474f7f.png\" style=\"width:1em; height:1em;\" /></span>',\n",
       " 'uid': 5622712244}"
      ]
     },
     "execution_count": 63,
     "metadata": {},
     "output_type": "execute_result"
    }
   ],
   "source": [
    "comments[0]"
   ]
  },
  {
   "cell_type": "code",
   "execution_count": null,
   "metadata": {},
   "outputs": [],
   "source": []
  },
  {
   "cell_type": "code",
   "execution_count": null,
   "metadata": {},
   "outputs": [],
   "source": []
  },
  {
   "cell_type": "code",
   "execution_count": null,
   "metadata": {},
   "outputs": [],
   "source": [
    "if __name__ == \"__main__\":\n",
    "    #driver = login()\n",
    "    info=get_user_info(uid='7044218812')\n",
    "    print(info)\n",
    "    posts=get_user_posts('7044218812',statuses_count=10)\n",
    "    print(len(posts))    \n",
    "    followings=get_all_followings('7044218812',follow_count=1)\n",
    "    print(len(followings))\n",
    "    followers=get_all_fans('7044218812',followers_count=info.followers_count)\n",
    "    print(followers)\n",
    "    comments=get_all_comments(pid=posts[0]['id'])\n",
    "    print(comments)"
   ]
  },
  {
   "cell_type": "code",
   "execution_count": null,
   "metadata": {},
   "outputs": [],
   "source": []
  },
  {
   "cell_type": "code",
   "execution_count": null,
   "metadata": {},
   "outputs": [],
   "source": []
  },
  {
   "cell_type": "code",
   "execution_count": null,
   "metadata": {},
   "outputs": [],
   "source": []
  }
 ],
 "metadata": {
  "kernelspec": {
   "display_name": "Python 3",
   "language": "python",
   "name": "python3"
  },
  "language_info": {
   "codemirror_mode": {
    "name": "ipython",
    "version": 3
   },
   "file_extension": ".py",
   "mimetype": "text/x-python",
   "name": "python",
   "nbconvert_exporter": "python",
   "pygments_lexer": "ipython3",
   "version": "3.6.5"
  }
 },
 "nbformat": 4,
 "nbformat_minor": 2
}
